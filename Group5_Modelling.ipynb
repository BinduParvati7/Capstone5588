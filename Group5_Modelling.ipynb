{
  "nbformat": 4,
  "nbformat_minor": 0,
  "metadata": {
    "colab": {
      "provenance": [],
      "mount_file_id": "1g62wglXAhi8VOi1RXTHQVwuONUoXMRpG",
      "authorship_tag": "ABX9TyO23UEYdisL3rckMl9LlrgV",
      "include_colab_link": true
    },
    "kernelspec": {
      "name": "python3",
      "display_name": "Python 3"
    },
    "language_info": {
      "name": "python"
    }
  },
  "cells": [
    {
      "cell_type": "markdown",
      "metadata": {
        "id": "view-in-github",
        "colab_type": "text"
      },
      "source": [
        "<a href=\"https://colab.research.google.com/github/BinduParvati7/Capstone5588/blob/Hemanth/Group5_Modelling.ipynb\" target=\"_parent\"><img src=\"https://colab.research.google.com/assets/colab-badge.svg\" alt=\"Open In Colab\"/></a>"
      ]
    },
    {
      "cell_type": "code",
      "execution_count": 3,
      "metadata": {
        "id": "cro7F2-fedkf"
      },
      "outputs": [],
      "source": [
        "#Importing the Required libraries\n",
        "import pandas as pd\n",
        "import numpy as np\n",
        "import missingno as msno\n",
        "import matplotlib.pyplot as plt\n",
        "import seaborn as sns\n",
        "import math\n",
        "pd.set_option('display.max_columns', None)\n",
        "plt.style.use('ggplot')\n",
        "\n",
        "import tensorflow as tf\n",
        "from sklearn.model_selection import train_test_split\n",
        "from sklearn.preprocessing import StandardScaler, LabelEncoder\n",
        "from sklearn.metrics import classification_report, confusion_matrix"
      ]
    },
    {
      "cell_type": "code",
      "source": [
        "train = pd.read_csv(\"/content/drive/MyDrive/DS_Capstone/fraudTrain.csv\", index_col=0)\n",
        "pd.options.display.float_format = '{:,.2f}'.format"
      ],
      "metadata": {
        "id": "_3un52iTeoAe"
      },
      "execution_count": 4,
      "outputs": []
    },
    {
      "cell_type": "code",
      "source": [
        "test = pd.read_csv(\"/content/drive/MyDrive/DS_Capstone/fraudTest.csv\", index_col=0)\n",
        "pd.options.display.float_format = '{:,.2f}'.format"
      ],
      "metadata": {
        "id": "LS5VAp-QewC_"
      },
      "execution_count": 5,
      "outputs": []
    },
    {
      "cell_type": "code",
      "source": [
        "merged_df = pd.concat([train, test], axis=0, ignore_index=True)"
      ],
      "metadata": {
        "id": "aPG3AW41gSr3"
      },
      "execution_count": 6,
      "outputs": []
    },
    {
      "cell_type": "code",
      "source": [
        "merged_df = merged_df.drop(['first','last','trans_num'], axis=1)"
      ],
      "metadata": {
        "id": "37ZIfmgPLS-R"
      },
      "execution_count": 7,
      "outputs": []
    },
    {
      "cell_type": "code",
      "source": [
        "merged_df.shape"
      ],
      "metadata": {
        "colab": {
          "base_uri": "https://localhost:8080/"
        },
        "id": "Xisny_ifghgV",
        "outputId": "54651cae-bdb8-4206-e5f1-2accb6f0617f"
      },
      "execution_count": null,
      "outputs": [
        {
          "output_type": "execute_result",
          "data": {
            "text/plain": [
              "(1852394, 19)"
            ]
          },
          "metadata": {},
          "execution_count": 15
        }
      ]
    },
    {
      "cell_type": "code",
      "source": [
        "#merged_df.to_csv('merged_data.csv', index=False)"
      ],
      "metadata": {
        "id": "xAQ_yyHhgksk"
      },
      "execution_count": null,
      "outputs": []
    },
    {
      "cell_type": "code",
      "source": [
        "merged_df.head(5)"
      ],
      "metadata": {
        "colab": {
          "base_uri": "https://localhost:8080/",
          "height": 503
        },
        "id": "50s6pwvdgnpN",
        "outputId": "d15a5d15-283a-4bf1-c47e-8d882fa03f25"
      },
      "execution_count": null,
      "outputs": [
        {
          "output_type": "execute_result",
          "data": {
            "text/plain": [
              "  trans_date_trans_time            cc_num                            merchant  \\\n",
              "0   2019-01-01 00:00:18  2703186189652095          fraud_Rippin, Kub and Mann   \n",
              "1   2019-01-01 00:00:44      630423337322     fraud_Heller, Gutmann and Zieme   \n",
              "2   2019-01-01 00:00:51    38859492057661                fraud_Lind-Buckridge   \n",
              "3   2019-01-01 00:01:16  3534093764340240  fraud_Kutch, Hermiston and Farrell   \n",
              "4   2019-01-01 00:03:06   375534208663984                 fraud_Keeling-Crist   \n",
              "\n",
              "        category    amt gender                        street            city  \\\n",
              "0       misc_net   4.97      F                561 Perry Cove  Moravian Falls   \n",
              "1    grocery_pos 107.23      F  43039 Riley Greens Suite 393          Orient   \n",
              "2  entertainment 220.11      M      594 White Dale Suite 530      Malad City   \n",
              "3  gas_transport  45.00      M   9443 Cynthia Court Apt. 038         Boulder   \n",
              "4       misc_pos  41.96      M              408 Bradley Rest        Doe Hill   \n",
              "\n",
              "  state    zip   lat    long  city_pop                                job  \\\n",
              "0    NC  28654 36.08  -81.18      3495          Psychologist, counselling   \n",
              "1    WA  99160 48.89 -118.21       149  Special educational needs teacher   \n",
              "2    ID  83252 42.18 -112.26      4154        Nature conservation officer   \n",
              "3    MT  59632 46.23 -112.11      1939                    Patent attorney   \n",
              "4    VA  24433 38.42  -79.46        99     Dance movement psychotherapist   \n",
              "\n",
              "          dob   unix_time  merch_lat  merch_long  is_fraud  \n",
              "0  1988-03-09  1325376018      36.01      -82.05         0  \n",
              "1  1978-06-21  1325376044      49.16     -118.19         0  \n",
              "2  1962-01-19  1325376051      43.15     -112.15         0  \n",
              "3  1967-01-12  1325376076      47.03     -112.56         0  \n",
              "4  1986-03-28  1325376186      38.67      -78.63         0  "
            ],
            "text/html": [
              "\n",
              "  <div id=\"df-a7a40076-6022-47e9-a456-5f1c36bdc415\" class=\"colab-df-container\">\n",
              "    <div>\n",
              "<style scoped>\n",
              "    .dataframe tbody tr th:only-of-type {\n",
              "        vertical-align: middle;\n",
              "    }\n",
              "\n",
              "    .dataframe tbody tr th {\n",
              "        vertical-align: top;\n",
              "    }\n",
              "\n",
              "    .dataframe thead th {\n",
              "        text-align: right;\n",
              "    }\n",
              "</style>\n",
              "<table border=\"1\" class=\"dataframe\">\n",
              "  <thead>\n",
              "    <tr style=\"text-align: right;\">\n",
              "      <th></th>\n",
              "      <th>trans_date_trans_time</th>\n",
              "      <th>cc_num</th>\n",
              "      <th>merchant</th>\n",
              "      <th>category</th>\n",
              "      <th>amt</th>\n",
              "      <th>gender</th>\n",
              "      <th>street</th>\n",
              "      <th>city</th>\n",
              "      <th>state</th>\n",
              "      <th>zip</th>\n",
              "      <th>lat</th>\n",
              "      <th>long</th>\n",
              "      <th>city_pop</th>\n",
              "      <th>job</th>\n",
              "      <th>dob</th>\n",
              "      <th>unix_time</th>\n",
              "      <th>merch_lat</th>\n",
              "      <th>merch_long</th>\n",
              "      <th>is_fraud</th>\n",
              "    </tr>\n",
              "  </thead>\n",
              "  <tbody>\n",
              "    <tr>\n",
              "      <th>0</th>\n",
              "      <td>2019-01-01 00:00:18</td>\n",
              "      <td>2703186189652095</td>\n",
              "      <td>fraud_Rippin, Kub and Mann</td>\n",
              "      <td>misc_net</td>\n",
              "      <td>4.97</td>\n",
              "      <td>F</td>\n",
              "      <td>561 Perry Cove</td>\n",
              "      <td>Moravian Falls</td>\n",
              "      <td>NC</td>\n",
              "      <td>28654</td>\n",
              "      <td>36.08</td>\n",
              "      <td>-81.18</td>\n",
              "      <td>3495</td>\n",
              "      <td>Psychologist, counselling</td>\n",
              "      <td>1988-03-09</td>\n",
              "      <td>1325376018</td>\n",
              "      <td>36.01</td>\n",
              "      <td>-82.05</td>\n",
              "      <td>0</td>\n",
              "    </tr>\n",
              "    <tr>\n",
              "      <th>1</th>\n",
              "      <td>2019-01-01 00:00:44</td>\n",
              "      <td>630423337322</td>\n",
              "      <td>fraud_Heller, Gutmann and Zieme</td>\n",
              "      <td>grocery_pos</td>\n",
              "      <td>107.23</td>\n",
              "      <td>F</td>\n",
              "      <td>43039 Riley Greens Suite 393</td>\n",
              "      <td>Orient</td>\n",
              "      <td>WA</td>\n",
              "      <td>99160</td>\n",
              "      <td>48.89</td>\n",
              "      <td>-118.21</td>\n",
              "      <td>149</td>\n",
              "      <td>Special educational needs teacher</td>\n",
              "      <td>1978-06-21</td>\n",
              "      <td>1325376044</td>\n",
              "      <td>49.16</td>\n",
              "      <td>-118.19</td>\n",
              "      <td>0</td>\n",
              "    </tr>\n",
              "    <tr>\n",
              "      <th>2</th>\n",
              "      <td>2019-01-01 00:00:51</td>\n",
              "      <td>38859492057661</td>\n",
              "      <td>fraud_Lind-Buckridge</td>\n",
              "      <td>entertainment</td>\n",
              "      <td>220.11</td>\n",
              "      <td>M</td>\n",
              "      <td>594 White Dale Suite 530</td>\n",
              "      <td>Malad City</td>\n",
              "      <td>ID</td>\n",
              "      <td>83252</td>\n",
              "      <td>42.18</td>\n",
              "      <td>-112.26</td>\n",
              "      <td>4154</td>\n",
              "      <td>Nature conservation officer</td>\n",
              "      <td>1962-01-19</td>\n",
              "      <td>1325376051</td>\n",
              "      <td>43.15</td>\n",
              "      <td>-112.15</td>\n",
              "      <td>0</td>\n",
              "    </tr>\n",
              "    <tr>\n",
              "      <th>3</th>\n",
              "      <td>2019-01-01 00:01:16</td>\n",
              "      <td>3534093764340240</td>\n",
              "      <td>fraud_Kutch, Hermiston and Farrell</td>\n",
              "      <td>gas_transport</td>\n",
              "      <td>45.00</td>\n",
              "      <td>M</td>\n",
              "      <td>9443 Cynthia Court Apt. 038</td>\n",
              "      <td>Boulder</td>\n",
              "      <td>MT</td>\n",
              "      <td>59632</td>\n",
              "      <td>46.23</td>\n",
              "      <td>-112.11</td>\n",
              "      <td>1939</td>\n",
              "      <td>Patent attorney</td>\n",
              "      <td>1967-01-12</td>\n",
              "      <td>1325376076</td>\n",
              "      <td>47.03</td>\n",
              "      <td>-112.56</td>\n",
              "      <td>0</td>\n",
              "    </tr>\n",
              "    <tr>\n",
              "      <th>4</th>\n",
              "      <td>2019-01-01 00:03:06</td>\n",
              "      <td>375534208663984</td>\n",
              "      <td>fraud_Keeling-Crist</td>\n",
              "      <td>misc_pos</td>\n",
              "      <td>41.96</td>\n",
              "      <td>M</td>\n",
              "      <td>408 Bradley Rest</td>\n",
              "      <td>Doe Hill</td>\n",
              "      <td>VA</td>\n",
              "      <td>24433</td>\n",
              "      <td>38.42</td>\n",
              "      <td>-79.46</td>\n",
              "      <td>99</td>\n",
              "      <td>Dance movement psychotherapist</td>\n",
              "      <td>1986-03-28</td>\n",
              "      <td>1325376186</td>\n",
              "      <td>38.67</td>\n",
              "      <td>-78.63</td>\n",
              "      <td>0</td>\n",
              "    </tr>\n",
              "  </tbody>\n",
              "</table>\n",
              "</div>\n",
              "    <div class=\"colab-df-buttons\">\n",
              "\n",
              "  <div class=\"colab-df-container\">\n",
              "    <button class=\"colab-df-convert\" onclick=\"convertToInteractive('df-a7a40076-6022-47e9-a456-5f1c36bdc415')\"\n",
              "            title=\"Convert this dataframe to an interactive table.\"\n",
              "            style=\"display:none;\">\n",
              "\n",
              "  <svg xmlns=\"http://www.w3.org/2000/svg\" height=\"24px\" viewBox=\"0 -960 960 960\">\n",
              "    <path d=\"M120-120v-720h720v720H120Zm60-500h600v-160H180v160Zm220 220h160v-160H400v160Zm0 220h160v-160H400v160ZM180-400h160v-160H180v160Zm440 0h160v-160H620v160ZM180-180h160v-160H180v160Zm440 0h160v-160H620v160Z\"/>\n",
              "  </svg>\n",
              "    </button>\n",
              "\n",
              "  <style>\n",
              "    .colab-df-container {\n",
              "      display:flex;\n",
              "      gap: 12px;\n",
              "    }\n",
              "\n",
              "    .colab-df-convert {\n",
              "      background-color: #E8F0FE;\n",
              "      border: none;\n",
              "      border-radius: 50%;\n",
              "      cursor: pointer;\n",
              "      display: none;\n",
              "      fill: #1967D2;\n",
              "      height: 32px;\n",
              "      padding: 0 0 0 0;\n",
              "      width: 32px;\n",
              "    }\n",
              "\n",
              "    .colab-df-convert:hover {\n",
              "      background-color: #E2EBFA;\n",
              "      box-shadow: 0px 1px 2px rgba(60, 64, 67, 0.3), 0px 1px 3px 1px rgba(60, 64, 67, 0.15);\n",
              "      fill: #174EA6;\n",
              "    }\n",
              "\n",
              "    .colab-df-buttons div {\n",
              "      margin-bottom: 4px;\n",
              "    }\n",
              "\n",
              "    [theme=dark] .colab-df-convert {\n",
              "      background-color: #3B4455;\n",
              "      fill: #D2E3FC;\n",
              "    }\n",
              "\n",
              "    [theme=dark] .colab-df-convert:hover {\n",
              "      background-color: #434B5C;\n",
              "      box-shadow: 0px 1px 3px 1px rgba(0, 0, 0, 0.15);\n",
              "      filter: drop-shadow(0px 1px 2px rgba(0, 0, 0, 0.3));\n",
              "      fill: #FFFFFF;\n",
              "    }\n",
              "  </style>\n",
              "\n",
              "    <script>\n",
              "      const buttonEl =\n",
              "        document.querySelector('#df-a7a40076-6022-47e9-a456-5f1c36bdc415 button.colab-df-convert');\n",
              "      buttonEl.style.display =\n",
              "        google.colab.kernel.accessAllowed ? 'block' : 'none';\n",
              "\n",
              "      async function convertToInteractive(key) {\n",
              "        const element = document.querySelector('#df-a7a40076-6022-47e9-a456-5f1c36bdc415');\n",
              "        const dataTable =\n",
              "          await google.colab.kernel.invokeFunction('convertToInteractive',\n",
              "                                                    [key], {});\n",
              "        if (!dataTable) return;\n",
              "\n",
              "        const docLinkHtml = 'Like what you see? Visit the ' +\n",
              "          '<a target=\"_blank\" href=https://colab.research.google.com/notebooks/data_table.ipynb>data table notebook</a>'\n",
              "          + ' to learn more about interactive tables.';\n",
              "        element.innerHTML = '';\n",
              "        dataTable['output_type'] = 'display_data';\n",
              "        await google.colab.output.renderOutput(dataTable, element);\n",
              "        const docLink = document.createElement('div');\n",
              "        docLink.innerHTML = docLinkHtml;\n",
              "        element.appendChild(docLink);\n",
              "      }\n",
              "    </script>\n",
              "  </div>\n",
              "\n",
              "\n",
              "<div id=\"df-cb113f26-ecfe-446b-9681-16bc4802015d\">\n",
              "  <button class=\"colab-df-quickchart\" onclick=\"quickchart('df-cb113f26-ecfe-446b-9681-16bc4802015d')\"\n",
              "            title=\"Suggest charts.\"\n",
              "            style=\"display:none;\">\n",
              "\n",
              "<svg xmlns=\"http://www.w3.org/2000/svg\" height=\"24px\"viewBox=\"0 0 24 24\"\n",
              "     width=\"24px\">\n",
              "    <g>\n",
              "        <path d=\"M19 3H5c-1.1 0-2 .9-2 2v14c0 1.1.9 2 2 2h14c1.1 0 2-.9 2-2V5c0-1.1-.9-2-2-2zM9 17H7v-7h2v7zm4 0h-2V7h2v10zm4 0h-2v-4h2v4z\"/>\n",
              "    </g>\n",
              "</svg>\n",
              "  </button>\n",
              "\n",
              "<style>\n",
              "  .colab-df-quickchart {\n",
              "      --bg-color: #E8F0FE;\n",
              "      --fill-color: #1967D2;\n",
              "      --hover-bg-color: #E2EBFA;\n",
              "      --hover-fill-color: #174EA6;\n",
              "      --disabled-fill-color: #AAA;\n",
              "      --disabled-bg-color: #DDD;\n",
              "  }\n",
              "\n",
              "  [theme=dark] .colab-df-quickchart {\n",
              "      --bg-color: #3B4455;\n",
              "      --fill-color: #D2E3FC;\n",
              "      --hover-bg-color: #434B5C;\n",
              "      --hover-fill-color: #FFFFFF;\n",
              "      --disabled-bg-color: #3B4455;\n",
              "      --disabled-fill-color: #666;\n",
              "  }\n",
              "\n",
              "  .colab-df-quickchart {\n",
              "    background-color: var(--bg-color);\n",
              "    border: none;\n",
              "    border-radius: 50%;\n",
              "    cursor: pointer;\n",
              "    display: none;\n",
              "    fill: var(--fill-color);\n",
              "    height: 32px;\n",
              "    padding: 0;\n",
              "    width: 32px;\n",
              "  }\n",
              "\n",
              "  .colab-df-quickchart:hover {\n",
              "    background-color: var(--hover-bg-color);\n",
              "    box-shadow: 0 1px 2px rgba(60, 64, 67, 0.3), 0 1px 3px 1px rgba(60, 64, 67, 0.15);\n",
              "    fill: var(--button-hover-fill-color);\n",
              "  }\n",
              "\n",
              "  .colab-df-quickchart-complete:disabled,\n",
              "  .colab-df-quickchart-complete:disabled:hover {\n",
              "    background-color: var(--disabled-bg-color);\n",
              "    fill: var(--disabled-fill-color);\n",
              "    box-shadow: none;\n",
              "  }\n",
              "\n",
              "  .colab-df-spinner {\n",
              "    border: 2px solid var(--fill-color);\n",
              "    border-color: transparent;\n",
              "    border-bottom-color: var(--fill-color);\n",
              "    animation:\n",
              "      spin 1s steps(1) infinite;\n",
              "  }\n",
              "\n",
              "  @keyframes spin {\n",
              "    0% {\n",
              "      border-color: transparent;\n",
              "      border-bottom-color: var(--fill-color);\n",
              "      border-left-color: var(--fill-color);\n",
              "    }\n",
              "    20% {\n",
              "      border-color: transparent;\n",
              "      border-left-color: var(--fill-color);\n",
              "      border-top-color: var(--fill-color);\n",
              "    }\n",
              "    30% {\n",
              "      border-color: transparent;\n",
              "      border-left-color: var(--fill-color);\n",
              "      border-top-color: var(--fill-color);\n",
              "      border-right-color: var(--fill-color);\n",
              "    }\n",
              "    40% {\n",
              "      border-color: transparent;\n",
              "      border-right-color: var(--fill-color);\n",
              "      border-top-color: var(--fill-color);\n",
              "    }\n",
              "    60% {\n",
              "      border-color: transparent;\n",
              "      border-right-color: var(--fill-color);\n",
              "    }\n",
              "    80% {\n",
              "      border-color: transparent;\n",
              "      border-right-color: var(--fill-color);\n",
              "      border-bottom-color: var(--fill-color);\n",
              "    }\n",
              "    90% {\n",
              "      border-color: transparent;\n",
              "      border-bottom-color: var(--fill-color);\n",
              "    }\n",
              "  }\n",
              "</style>\n",
              "\n",
              "  <script>\n",
              "    async function quickchart(key) {\n",
              "      const quickchartButtonEl =\n",
              "        document.querySelector('#' + key + ' button');\n",
              "      quickchartButtonEl.disabled = true;  // To prevent multiple clicks.\n",
              "      quickchartButtonEl.classList.add('colab-df-spinner');\n",
              "      try {\n",
              "        const charts = await google.colab.kernel.invokeFunction(\n",
              "            'suggestCharts', [key], {});\n",
              "      } catch (error) {\n",
              "        console.error('Error during call to suggestCharts:', error);\n",
              "      }\n",
              "      quickchartButtonEl.classList.remove('colab-df-spinner');\n",
              "      quickchartButtonEl.classList.add('colab-df-quickchart-complete');\n",
              "    }\n",
              "    (() => {\n",
              "      let quickchartButtonEl =\n",
              "        document.querySelector('#df-cb113f26-ecfe-446b-9681-16bc4802015d button');\n",
              "      quickchartButtonEl.style.display =\n",
              "        google.colab.kernel.accessAllowed ? 'block' : 'none';\n",
              "    })();\n",
              "  </script>\n",
              "</div>\n",
              "    </div>\n",
              "  </div>\n"
            ]
          },
          "metadata": {},
          "execution_count": 16
        }
      ]
    },
    {
      "cell_type": "code",
      "source": [
        "merged_df['trans_date_trans_time'] = pd.to_datetime(merged_df['trans_date_trans_time'])\n",
        "merged_df['dob'] = pd.to_datetime(merged_df['dob'])"
      ],
      "metadata": {
        "id": "Bs9yT6oZEnSl"
      },
      "execution_count": 8,
      "outputs": []
    },
    {
      "cell_type": "code",
      "source": [
        "# Extract relevant information from datetime columns\n",
        "merged_df['trans_year'] = merged_df['trans_date_trans_time'].dt.year\n",
        "merged_df['trans_month'] = merged_df['trans_date_trans_time'].dt.month\n",
        "merged_df['trans_day'] = merged_df['trans_date_trans_time'].dt.day\n",
        "merged_df['dob_year'] = merged_df['dob'].dt.year\n",
        "merged_df['dob_month'] = merged_df['dob'].dt.month\n",
        "merged_df['dob_day'] = merged_df['dob'].dt.day\n",
        "\n",
        "# Drop the original datetime columns\n",
        "merged_df = merged_df.drop(['trans_date_trans_time', 'dob'], axis=1)"
      ],
      "metadata": {
        "id": "k_vJtwcXXF6Q"
      },
      "execution_count": 9,
      "outputs": []
    },
    {
      "cell_type": "code",
      "source": [
        "# Preprocessing\n",
        "# Assuming you have already converted 'trans_date_trans_time' and 'dob' columns to datetime\n",
        "# Encode categorical columns using LabelEncoder\n",
        "label_encoders = {}\n",
        "categorical_columns = ['merchant', 'category', 'gender', 'street', 'city', 'state', 'job']\n",
        "for col in categorical_columns:\n",
        "    label_encoders[col] = LabelEncoder()\n",
        "    merged_df[col] = label_encoders[col].fit_transform(merged_df[col])\n",
        "\n",
        "# Split the data into features (X) and target (y)\n",
        "X = merged_df.drop(['is_fraud'], axis=1)\n",
        "y = merged_df['is_fraud']\n",
        "\n",
        "# Split the data into training and testing sets\n",
        "X_train, X_test, y_train, y_test = train_test_split(X, y, test_size=0.2, random_state=42)\n",
        "\n",
        "# Standardize numerical features\n",
        "scaler = StandardScaler()\n",
        "X_train = scaler.fit_transform(X_train)\n",
        "X_test = scaler.transform(X_test)"
      ],
      "metadata": {
        "id": "PsU6TaK3MvTN"
      },
      "execution_count": 11,
      "outputs": []
    },
    {
      "cell_type": "code",
      "source": [
        "merged_df.info()"
      ],
      "metadata": {
        "colab": {
          "base_uri": "https://localhost:8080/"
        },
        "id": "w0WdMKCHMvY7",
        "outputId": "461a7d4b-ed38-4eb2-ab1c-1cd2d2f38e7a"
      },
      "execution_count": null,
      "outputs": [
        {
          "output_type": "stream",
          "name": "stdout",
          "text": [
            "<class 'pandas.core.frame.DataFrame'>\n",
            "RangeIndex: 1852394 entries, 0 to 1852393\n",
            "Data columns (total 23 columns):\n",
            " #   Column       Dtype  \n",
            "---  ------       -----  \n",
            " 0   cc_num       int64  \n",
            " 1   merchant     int64  \n",
            " 2   category     int64  \n",
            " 3   amt          float64\n",
            " 4   gender       int64  \n",
            " 5   street       int64  \n",
            " 6   city         int64  \n",
            " 7   state        int64  \n",
            " 8   zip          int64  \n",
            " 9   lat          float64\n",
            " 10  long         float64\n",
            " 11  city_pop     int64  \n",
            " 12  job          int64  \n",
            " 13  unix_time    int64  \n",
            " 14  merch_lat    float64\n",
            " 15  merch_long   float64\n",
            " 16  is_fraud     int64  \n",
            " 17  trans_year   int64  \n",
            " 18  trans_month  int64  \n",
            " 19  trans_day    int64  \n",
            " 20  dob_year     int64  \n",
            " 21  dob_month    int64  \n",
            " 22  dob_day      int64  \n",
            "dtypes: float64(5), int64(18)\n",
            "memory usage: 325.1 MB\n"
          ]
        }
      ]
    },
    {
      "cell_type": "code",
      "source": [],
      "metadata": {
        "id": "tD8uLfT-MgKW"
      },
      "execution_count": null,
      "outputs": []
    },
    {
      "cell_type": "markdown",
      "source": [
        "**Sequential Model**"
      ],
      "metadata": {
        "id": "RySVNZARMgwn"
      }
    },
    {
      "cell_type": "markdown",
      "source": [
        "Input Layer: It takes an input with the shape of (X_train.shape[1],) which is the shape of your training data.\n",
        "\n",
        "Dense Layer (64 units): It is a fully connected (dense) layer with 64 units and ReLU activation.\n",
        "\n",
        "Dense Layer (32 units): Another fully connected layer with 32 units and ReLU activation.\n",
        "\n",
        "Dense Layer (1 unit): The output layer with a single unit and sigmoid activation. This is a binary classification model, and the sigmoid activation function is often used for binary classification tasks.\n",
        "\n",
        "After defining the model, you compile it using the Adam optimizer, binary cross-entropy loss (commonly used for binary classification problems), and accuracy as the metric for evaluation."
      ],
      "metadata": {
        "id": "bHvx9BOqMsyD"
      }
    },
    {
      "cell_type": "code",
      "source": [
        "\n",
        "# Define the deep learning model\n",
        "model = tf.keras.Sequential([\n",
        "    tf.keras.layers.Input(shape=(X_train.shape[1],)),\n",
        "    tf.keras.layers.Dense(64, activation='relu'),\n",
        "    tf.keras.layers.Dense(32, activation='relu'),\n",
        "    tf.keras.layers.Dense(1, activation='sigmoid')\n",
        "])\n",
        "\n",
        "# Compile the model\n",
        "model.compile(optimizer='adam', loss='binary_crossentropy', metrics=['accuracy'])\n",
        "\n",
        "# Train the model\n",
        "model.fit(X_train, y_train, epochs=10, batch_size=32, validation_split=0.2)"
      ],
      "metadata": {
        "colab": {
          "base_uri": "https://localhost:8080/"
        },
        "id": "y6LcSWYNMvba",
        "outputId": "5806fb82-bb1c-4bda-9042-972c8b276025"
      },
      "execution_count": null,
      "outputs": [
        {
          "output_type": "stream",
          "name": "stdout",
          "text": [
            "Epoch 1/10\n",
            "37048/37048 [==============================] - 97s 3ms/step - loss: 0.0188 - accuracy: 0.9953 - val_loss: 0.0154 - val_accuracy: 0.9958\n",
            "Epoch 2/10\n",
            "37048/37048 [==============================] - 89s 2ms/step - loss: 0.0141 - accuracy: 0.9962 - val_loss: 0.0131 - val_accuracy: 0.9962\n",
            "Epoch 3/10\n",
            "37048/37048 [==============================] - 98s 3ms/step - loss: 0.0124 - accuracy: 0.9964 - val_loss: 0.0121 - val_accuracy: 0.9963\n",
            "Epoch 4/10\n",
            "37048/37048 [==============================] - 97s 3ms/step - loss: 0.0117 - accuracy: 0.9966 - val_loss: 0.0115 - val_accuracy: 0.9967\n",
            "Epoch 5/10\n",
            "37048/37048 [==============================] - 89s 2ms/step - loss: 0.0113 - accuracy: 0.9967 - val_loss: 0.0113 - val_accuracy: 0.9966\n",
            "Epoch 6/10\n",
            "37048/37048 [==============================] - 94s 3ms/step - loss: 0.0110 - accuracy: 0.9967 - val_loss: 0.0115 - val_accuracy: 0.9968\n",
            "Epoch 7/10\n",
            "37048/37048 [==============================] - 99s 3ms/step - loss: 0.0108 - accuracy: 0.9968 - val_loss: 0.0109 - val_accuracy: 0.9967\n",
            "Epoch 8/10\n",
            "37048/37048 [==============================] - 93s 3ms/step - loss: 0.0106 - accuracy: 0.9969 - val_loss: 0.0113 - val_accuracy: 0.9968\n",
            "Epoch 9/10\n",
            "37048/37048 [==============================] - 97s 3ms/step - loss: 0.0106 - accuracy: 0.9969 - val_loss: 0.0111 - val_accuracy: 0.9967\n",
            "Epoch 10/10\n",
            "37048/37048 [==============================] - 91s 2ms/step - loss: 0.0105 - accuracy: 0.9969 - val_loss: 0.0114 - val_accuracy: 0.9968\n"
          ]
        },
        {
          "output_type": "execute_result",
          "data": {
            "text/plain": [
              "<keras.src.callbacks.History at 0x78d13140b430>"
            ]
          },
          "metadata": {},
          "execution_count": 22
        }
      ]
    },
    {
      "cell_type": "code",
      "source": [
        "\n",
        "# Evaluate the model on the test set\n",
        "y_pred = model.predict(X_test)\n",
        "y_pred = (y_pred > 0.5)  # Convert probabilities to binary predictions\n",
        "\n",
        "# Print classification report and confusion matrix\n",
        "print(classification_report(y_test, y_pred))\n",
        "print(confusion_matrix(y_test, y_pred))"
      ],
      "metadata": {
        "colab": {
          "base_uri": "https://localhost:8080/"
        },
        "id": "fqHuvKanJ1Pj",
        "outputId": "d4498579-0283-452f-abf1-d9fb08a3acd7"
      },
      "execution_count": null,
      "outputs": [
        {
          "output_type": "stream",
          "name": "stdout",
          "text": [
            "11578/11578 [==============================] - 17s 1ms/step\n",
            "              precision    recall  f1-score   support\n",
            "\n",
            "           0       1.00      1.00      1.00    368526\n",
            "           1       0.79      0.57      0.66      1953\n",
            "\n",
            "    accuracy                           1.00    370479\n",
            "   macro avg       0.89      0.78      0.83    370479\n",
            "weighted avg       1.00      1.00      1.00    370479\n",
            "\n",
            "[[368230    296]\n",
            " [   847   1106]]\n"
          ]
        }
      ]
    },
    {
      "cell_type": "code",
      "source": [],
      "metadata": {
        "id": "NwG9MCkXfQQX"
      },
      "execution_count": null,
      "outputs": []
    },
    {
      "cell_type": "markdown",
      "source": [
        "**Implementing Convolutional Neural Network (CNN)**"
      ],
      "metadata": {
        "id": "5ZXdfdHqNRMP"
      }
    },
    {
      "cell_type": "markdown",
      "source": [
        "This is a sequential model for a 1D Convolutional Neural Network (CNN) designed for some form of sequence data (possibly time-series data). It consists of the following layers:\n",
        "\n",
        "Conv1D Layer (64 filters, kernel size 3): This layer performs a 1D convolution operation with 64 filters and a kernel size of 3. It uses ReLU activation.\n",
        "\n",
        "MaxPooling1D Layer (pool size 2): After the convolution, there's a max-pooling layer with a pool size of 2.\n",
        "\n",
        "Conv1D Layer (128 filters, kernel size 3): Another convolutional layer with 128 filters and kernel size 3, also using ReLU activation.\n",
        "\n",
        "MaxPooling1D Layer (pool size 2): Another max-pooling layer with a pool size of 2.\n",
        "\n",
        "Flatten Layer: This layer flattens the output from the previous layers into a 1D vector, preparing it for the fully connected layers.\n",
        "\n",
        "Dense Layer (64 units): A fully connected layer with 64 units and ReLU activation.\n",
        "\n",
        "Dropout Layer: A dropout layer with a dropout rate of 0.5, which helps prevent overfitting.\n",
        "\n",
        "Dense Layer (1 unit): The output layer with a single unit and sigmoid activation, indicating binary classification.\n",
        "\n",
        "The model is compiled using the Adam optimizer, binary cross-entropy loss, and accuracy as the metric, just like the first model.\n",
        "\n",
        "In summary, the first model is a feedforward neural network, while the second model is a 1D convolutional neural network, typically used for sequence or time-series data. Both models are designed for binary classification tasks."
      ],
      "metadata": {
        "id": "vVzUFuLRM9Ip"
      }
    },
    {
      "cell_type": "code",
      "source": [
        "# Define the CNN-based deep learning model\n",
        "import pandas as pd\n",
        "import numpy as np\n",
        "import tensorflow as tf\n",
        "from sklearn.model_selection import train_test_split\n",
        "from sklearn.preprocessing import StandardScaler, LabelEncoder\n",
        "from sklearn.metrics import classification_report, confusion_matrix\n",
        "from tensorflow.keras.models import Sequential\n",
        "from tensorflow.keras.layers import Conv1D, MaxPooling1D, Flatten, Dense, Dropout, Input\n",
        "from tensorflow.keras.optimizers import Adam\n",
        "\n",
        "model = Sequential()\n",
        "model.add(Conv1D(filters=64, kernel_size=3, activation='relu', input_shape=(X_train.shape[1], 1)))\n",
        "model.add(MaxPooling1D(pool_size=2))\n",
        "model.add(Conv1D(filters=128, kernel_size=3, activation='relu'))\n",
        "model.add(MaxPooling1D(pool_size=2))\n",
        "model.add(Flatten())\n",
        "model.add(Dense(64, activation='relu'))\n",
        "model.add(Dropout(0.5))\n",
        "model.add(Dense(1, activation='sigmoid'))\n",
        "\n",
        "# Compile the model\n",
        "optimizer = Adam(learning_rate=0.001)\n",
        "model.compile(optimizer=optimizer, loss='binary_crossentropy', metrics=['accuracy'])\n",
        "\n",
        "# Train the model\n",
        "model.fit(X_train, y_train, epochs=10, batch_size=32, validation_split=0.2)\n",
        "\n"
      ],
      "metadata": {
        "colab": {
          "base_uri": "https://localhost:8080/"
        },
        "id": "ufjp7Or6y0SI",
        "outputId": "aaa0c830-30db-4a31-9241-db35388eed43"
      },
      "execution_count": null,
      "outputs": [
        {
          "output_type": "stream",
          "name": "stdout",
          "text": [
            "Epoch 1/10\n",
            "37048/37048 [==============================] - 359s 10ms/step - loss: 0.0203 - accuracy: 0.9948 - val_loss: 0.0178 - val_accuracy: 0.9947\n",
            "Epoch 2/10\n",
            "37048/37048 [==============================] - 308s 8ms/step - loss: 0.0176 - accuracy: 0.9948 - val_loss: 0.0172 - val_accuracy: 0.9947\n",
            "Epoch 3/10\n",
            "37048/37048 [==============================] - 254s 7ms/step - loss: 0.0169 - accuracy: 0.9951 - val_loss: 0.0159 - val_accuracy: 0.9950\n",
            "Epoch 4/10\n",
            "37048/37048 [==============================] - 249s 7ms/step - loss: 0.0164 - accuracy: 0.9956 - val_loss: 0.0152 - val_accuracy: 0.9959\n",
            "Epoch 5/10\n",
            "37048/37048 [==============================] - 247s 7ms/step - loss: 0.0163 - accuracy: 0.9957 - val_loss: 0.0150 - val_accuracy: 0.9960\n",
            "Epoch 6/10\n",
            "37048/37048 [==============================] - 247s 7ms/step - loss: 0.0161 - accuracy: 0.9957 - val_loss: 0.0167 - val_accuracy: 0.9961\n",
            "Epoch 7/10\n",
            "37048/37048 [==============================] - 244s 7ms/step - loss: 0.0159 - accuracy: 0.9960 - val_loss: 0.0147 - val_accuracy: 0.9959\n",
            "Epoch 8/10\n",
            "37048/37048 [==============================] - 314s 8ms/step - loss: 0.0157 - accuracy: 0.9959 - val_loss: 0.0143 - val_accuracy: 0.9961\n",
            "Epoch 9/10\n",
            "18264/37048 [=============>................] - ETA: 2:20 - loss: 0.0156 - accuracy: 0.9960"
          ]
        }
      ]
    },
    {
      "cell_type": "code",
      "source": [
        "# Evaluate the model on the test set\n",
        "y_pred = model.predict(X_test)\n",
        "y_pred = (y_pred > 0.5)  # Convert probabilities to binary predictions\n",
        "\n",
        "# Print classification report and confusion matrix\n",
        "print(classification_report(y_test, y_pred))\n",
        "print(confusion_matrix(y_test, y_pred))"
      ],
      "metadata": {
        "colab": {
          "base_uri": "https://localhost:8080/"
        },
        "id": "FAiok5YGy6Eg",
        "outputId": "5bf2fb08-45a4-426f-bd1f-3d02e1754e0a"
      },
      "execution_count": null,
      "outputs": [
        {
          "output_type": "stream",
          "name": "stdout",
          "text": [
            "11578/11578 [==============================] - 32s 3ms/step\n",
            "              precision    recall  f1-score   support\n",
            "\n",
            "           0       1.00      1.00      1.00    368526\n",
            "           1       0.75      0.43      0.54      1953\n",
            "\n",
            "    accuracy                           1.00    370479\n",
            "   macro avg       0.87      0.71      0.77    370479\n",
            "weighted avg       1.00      1.00      1.00    370479\n",
            "\n",
            "[[368253    273]\n",
            " [  1121    832]]\n"
          ]
        }
      ]
    },
    {
      "cell_type": "code",
      "source": [],
      "metadata": {
        "id": "93Rn0bvZC59w"
      },
      "execution_count": null,
      "outputs": []
    },
    {
      "cell_type": "markdown",
      "source": [
        "**Implementing LSTM Model**\n",
        "\n",
        "LSTM is a type of recurrent neural network (RNN) architecture, specifically designed to handle and capture long-range dependencies and temporal patterns in sequential data. LSTMs are often used in tasks such as time series analysis, natural language processing, and any task where the order of data points is significant."
      ],
      "metadata": {
        "id": "Nn96jpbVMAK1"
      }
    },
    {
      "cell_type": "code",
      "source": [
        "import tensorflow as tf\n",
        "from tensorflow.keras.models import Sequential\n",
        "from tensorflow.keras.layers import LSTM, Dense\n",
        "\n",
        "model = Sequential()\n",
        "model.add(LSTM(units=64, input_shape=(X_train.shape[1], 1)))\n",
        "model.add(Dense(1, activation='sigmoid'))\n",
        "\n",
        "model.compile(optimizer='adam', loss='binary_crossentropy', metrics=['accuracy'])\n",
        "model.summary()\n",
        "model.fit(X_train, y_train, epochs=5, batch_size=32, validation_split=0.2)"
      ],
      "metadata": {
        "colab": {
          "base_uri": "https://localhost:8080/"
        },
        "id": "IXVnn18fMHB0",
        "outputId": "ba72b8db-55bb-4016-95df-2c4ba7ad3d7a"
      },
      "execution_count": null,
      "outputs": [
        {
          "output_type": "stream",
          "name": "stdout",
          "text": [
            "Model: \"sequential_2\"\n",
            "_________________________________________________________________\n",
            " Layer (type)                Output Shape              Param #   \n",
            "=================================================================\n",
            " lstm (LSTM)                 (None, 64)                16896     \n",
            "                                                                 \n",
            " dense (Dense)               (None, 1)                 65        \n",
            "                                                                 \n",
            "=================================================================\n",
            "Total params: 16961 (66.25 KB)\n",
            "Trainable params: 16961 (66.25 KB)\n",
            "Non-trainable params: 0 (0.00 Byte)\n",
            "_________________________________________________________________\n",
            "Epoch 1/10\n",
            "37048/37048 [==============================] - 554s 15ms/step - loss: 0.0223 - accuracy: 0.9949 - val_loss: 0.0178 - val_accuracy: 0.9947\n",
            "Epoch 2/10\n",
            "37048/37048 [==============================] - 525s 14ms/step - loss: 0.0156 - accuracy: 0.9959 - val_loss: 0.0149 - val_accuracy: 0.9962\n",
            "Epoch 3/10\n",
            "37048/37048 [==============================] - 502s 14ms/step - loss: 0.0132 - accuracy: 0.9964 - val_loss: 0.0133 - val_accuracy: 0.9963\n",
            "Epoch 4/10\n",
            "37048/37048 [==============================] - 511s 14ms/step - loss: 0.0119 - accuracy: 0.9966 - val_loss: 0.0114 - val_accuracy: 0.9968\n",
            "Epoch 5/10\n",
            "37048/37048 [==============================] - 500s 14ms/step - loss: 0.0111 - accuracy: 0.9968 - val_loss: 0.0109 - val_accuracy: 0.9969\n",
            "Epoch 6/10\n",
            "37048/37048 [==============================] - 529s 14ms/step - loss: 0.0105 - accuracy: 0.9969 - val_loss: 0.0102 - val_accuracy: 0.9970\n",
            "Epoch 7/10\n",
            "37048/37048 [==============================] - 496s 13ms/step - loss: 0.0101 - accuracy: 0.9971 - val_loss: 0.0100 - val_accuracy: 0.9971\n",
            "Epoch 8/10\n",
            "21047/37048 [================>.............] - ETA: 3:19 - loss: 0.0099 - accuracy: 0.9972"
          ]
        }
      ]
    },
    {
      "cell_type": "code",
      "source": [],
      "metadata": {
        "id": "xaF8RZFDMMoK"
      },
      "execution_count": null,
      "outputs": []
    },
    {
      "cell_type": "code",
      "source": [],
      "metadata": {
        "id": "mKzwJTq4PSca"
      },
      "execution_count": null,
      "outputs": []
    },
    {
      "cell_type": "markdown",
      "source": [
        "**Implementing GRU Model**\n",
        "\n",
        "A GRU is a type of recurrent neural network (RNN) that is designed to capture and model sequential data. It is similar to the more complex LSTM (Long Short-Term Memory) but is computationally more efficient and can be easier to train."
      ],
      "metadata": {
        "id": "1rBkm52tPSrw"
      }
    },
    {
      "cell_type": "markdown",
      "source": [],
      "metadata": {
        "id": "NtvGY9_yPWMY"
      }
    },
    {
      "cell_type": "code",
      "source": [
        "import tensorflow as tf\n",
        "from tensorflow.keras.models import Sequential\n",
        "from tensorflow.keras.layers import GRU, Dense\n",
        "\n",
        "model = Sequential()\n",
        "model.add(GRU(units=64, input_shape=(X_train.shape[1], 1))\n",
        "model.add(Dense(1, activation='sigmoid'))\n",
        "\n",
        "model.compile(optimizer='adam', loss='binary_crossentropy', metrics=['accuracy'])\n",
        "model.summary()\n",
        "model.fit(X_train, y_train, epochs=5, batch_size=32, validation_split=0.2)\n"
      ],
      "metadata": {
        "id": "Hj4AvEEPPVlj"
      },
      "execution_count": null,
      "outputs": []
    },
    {
      "cell_type": "code",
      "source": [],
      "metadata": {
        "id": "ZkqQvNdkPYPp"
      },
      "execution_count": null,
      "outputs": []
    },
    {
      "cell_type": "code",
      "source": [],
      "metadata": {
        "id": "i0XYlQP5PYTJ"
      },
      "execution_count": null,
      "outputs": []
    },
    {
      "cell_type": "markdown",
      "source": [
        "**Implementing Auto encoder model**\n",
        "\n",
        "An autoencoder is a type of neural network used for dimensionality reduction, feature learning, and anomaly detection. It consists of an encoder network that maps the input data to a lower-dimensional representation and a decoder network that attempts to reconstruct the original input from this representation."
      ],
      "metadata": {
        "id": "R49JZGcIPY7F"
      }
    },
    {
      "cell_type": "code",
      "source": [
        "import tensorflow as tf\n",
        "from tensorflow.keras.models import Sequential\n",
        "from tensorflow.keras.layers import Dense\n",
        "\n",
        "# Define the encoder part of the autoencoder\n",
        "encoder = Sequential()\n",
        "encoder.add(Dense(128, activation='relu', input_shape=(X_train.shape[1],)))\n",
        "encoder.add(Dense(64, activation='relu'))\n",
        "\n",
        "# Define the decoder part of the autoencoder\n",
        "decoder = Sequential()\n",
        "decoder.add(Dense(128, activation='relu', input_shape=(64,)))\n",
        "decoder.add(Dense(X_train.shape[1], activation='sigmoid'))\n",
        "\n",
        "# Combine the encoder and decoder to create the autoencoder\n",
        "autoencoder = Sequential([encoder, decoder])\n",
        "\n",
        "autoencoder.compile(optimizer='adam', loss='mean_squared_error')\n",
        "autoencoder.summary()\n",
        "autoencoder.fit(X_train, X_train, epochs=5, batch_size=32, validation_split=0.2)\n"
      ],
      "metadata": {
        "id": "56g03axXPeHt"
      },
      "execution_count": null,
      "outputs": []
    }
  ]
}