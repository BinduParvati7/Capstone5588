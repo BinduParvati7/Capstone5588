{
  "cells": [
    {
      "cell_type": "markdown",
      "metadata": {
        "id": "view-in-github",
        "colab_type": "text"
      },
      "source": [
        "<a href=\"https://colab.research.google.com/github/BinduParvati7/Capstone5588/blob/Bindu's-work/Group5_Modelling.ipynb\" target=\"_parent\"><img src=\"https://colab.research.google.com/assets/colab-badge.svg\" alt=\"Open In Colab\"/></a>"
      ]
    },
    {
      "cell_type": "code",
      "execution_count": 2,
      "metadata": {
        "id": "cro7F2-fedkf"
      },
      "outputs": [],
      "source": [
        "#Importing the Required libraries\n",
        "import pandas as pd\n",
        "import numpy as np\n",
        "import missingno as msno\n",
        "import matplotlib.pyplot as plt\n",
        "import seaborn as sns\n",
        "import math\n",
        "pd.set_option('display.max_columns', None)\n",
        "plt.style.use('ggplot')\n",
        "\n",
        "import tensorflow as tf\n",
        "from sklearn.model_selection import train_test_split\n",
        "from sklearn.preprocessing import StandardScaler, LabelEncoder\n",
        "from sklearn.metrics import classification_report, confusion_matrix"
      ]
    },
    {
      "cell_type": "code",
      "source": [
        "from google.colab import drive\n",
        "drive.mount('/content/drive')"
      ],
      "metadata": {
        "colab": {
          "base_uri": "https://localhost:8080/"
        },
        "id": "kzXKSqP8qYth",
        "outputId": "7a782145-7951-4b3a-d367-e4c06bb04ad6"
      },
      "execution_count": 3,
      "outputs": [
        {
          "output_type": "stream",
          "name": "stdout",
          "text": [
            "Drive already mounted at /content/drive; to attempt to forcibly remount, call drive.mount(\"/content/drive\", force_remount=True).\n"
          ]
        }
      ]
    },
    {
      "cell_type": "code",
      "execution_count": 4,
      "metadata": {
        "id": "_3un52iTeoAe"
      },
      "outputs": [],
      "source": [
        "train = pd.read_csv(\"/content/drive/MyDrive/DS_Capstone/fraudTrain.csv\", index_col=0)\n",
        "pd.options.display.float_format = '{:,.2f}'.format"
      ]
    },
    {
      "cell_type": "code",
      "execution_count": 5,
      "metadata": {
        "id": "LS5VAp-QewC_"
      },
      "outputs": [],
      "source": [
        "test = pd.read_csv(\"/content/drive/MyDrive/DS_Capstone/fraudTest.csv\", index_col=0)\n",
        "pd.options.display.float_format = '{:,.2f}'.format"
      ]
    },
    {
      "cell_type": "code",
      "execution_count": 6,
      "metadata": {
        "id": "aPG3AW41gSr3"
      },
      "outputs": [],
      "source": [
        "merged_df = pd.concat([train, test], axis=0, ignore_index=True)"
      ]
    },
    {
      "cell_type": "code",
      "execution_count": 7,
      "metadata": {
        "id": "37ZIfmgPLS-R"
      },
      "outputs": [],
      "source": [
        "merged_df = merged_df.drop(['first','last','trans_num'], axis=1)"
      ]
    },
    {
      "cell_type": "code",
      "execution_count": 8,
      "metadata": {
        "colab": {
          "base_uri": "https://localhost:8080/"
        },
        "id": "Xisny_ifghgV",
        "outputId": "a55adc6c-46df-4033-96d1-de93d00ffa97"
      },
      "outputs": [
        {
          "output_type": "execute_result",
          "data": {
            "text/plain": [
              "(1852394, 19)"
            ]
          },
          "metadata": {},
          "execution_count": 8
        }
      ],
      "source": [
        "merged_df.shape"
      ]
    },
    {
      "cell_type": "code",
      "execution_count": 9,
      "metadata": {
        "id": "xAQ_yyHhgksk"
      },
      "outputs": [],
      "source": [
        "#merged_df.to_csv('merged_data.csv', index=False)"
      ]
    },
    {
      "cell_type": "code",
      "execution_count": 10,
      "metadata": {
        "colab": {
          "base_uri": "https://localhost:8080/",
          "height": 504
        },
        "id": "50s6pwvdgnpN",
        "outputId": "604cbecb-ddee-4a9a-a05f-ec8bdcbff169"
      },
      "outputs": [
        {
          "output_type": "execute_result",
          "data": {
            "text/plain": [
              "  trans_date_trans_time            cc_num                            merchant  \\\n",
              "0   2019-01-01 00:00:18  2703186189652095          fraud_Rippin, Kub and Mann   \n",
              "1   2019-01-01 00:00:44      630423337322     fraud_Heller, Gutmann and Zieme   \n",
              "2   2019-01-01 00:00:51    38859492057661                fraud_Lind-Buckridge   \n",
              "3   2019-01-01 00:01:16  3534093764340240  fraud_Kutch, Hermiston and Farrell   \n",
              "4   2019-01-01 00:03:06   375534208663984                 fraud_Keeling-Crist   \n",
              "\n",
              "        category    amt gender                        street            city  \\\n",
              "0       misc_net   4.97      F                561 Perry Cove  Moravian Falls   \n",
              "1    grocery_pos 107.23      F  43039 Riley Greens Suite 393          Orient   \n",
              "2  entertainment 220.11      M      594 White Dale Suite 530      Malad City   \n",
              "3  gas_transport  45.00      M   9443 Cynthia Court Apt. 038         Boulder   \n",
              "4       misc_pos  41.96      M              408 Bradley Rest        Doe Hill   \n",
              "\n",
              "  state    zip   lat    long  city_pop                                job  \\\n",
              "0    NC  28654 36.08  -81.18      3495          Psychologist, counselling   \n",
              "1    WA  99160 48.89 -118.21       149  Special educational needs teacher   \n",
              "2    ID  83252 42.18 -112.26      4154        Nature conservation officer   \n",
              "3    MT  59632 46.23 -112.11      1939                    Patent attorney   \n",
              "4    VA  24433 38.42  -79.46        99     Dance movement psychotherapist   \n",
              "\n",
              "          dob   unix_time  merch_lat  merch_long  is_fraud  \n",
              "0  1988-03-09  1325376018      36.01      -82.05         0  \n",
              "1  1978-06-21  1325376044      49.16     -118.19         0  \n",
              "2  1962-01-19  1325376051      43.15     -112.15         0  \n",
              "3  1967-01-12  1325376076      47.03     -112.56         0  \n",
              "4  1986-03-28  1325376186      38.67      -78.63         0  "
            ],
            "text/html": [
              "\n",
              "  <div id=\"df-b50305bd-afef-4efb-8819-e62f12f594fc\" class=\"colab-df-container\">\n",
              "    <div>\n",
              "<style scoped>\n",
              "    .dataframe tbody tr th:only-of-type {\n",
              "        vertical-align: middle;\n",
              "    }\n",
              "\n",
              "    .dataframe tbody tr th {\n",
              "        vertical-align: top;\n",
              "    }\n",
              "\n",
              "    .dataframe thead th {\n",
              "        text-align: right;\n",
              "    }\n",
              "</style>\n",
              "<table border=\"1\" class=\"dataframe\">\n",
              "  <thead>\n",
              "    <tr style=\"text-align: right;\">\n",
              "      <th></th>\n",
              "      <th>trans_date_trans_time</th>\n",
              "      <th>cc_num</th>\n",
              "      <th>merchant</th>\n",
              "      <th>category</th>\n",
              "      <th>amt</th>\n",
              "      <th>gender</th>\n",
              "      <th>street</th>\n",
              "      <th>city</th>\n",
              "      <th>state</th>\n",
              "      <th>zip</th>\n",
              "      <th>lat</th>\n",
              "      <th>long</th>\n",
              "      <th>city_pop</th>\n",
              "      <th>job</th>\n",
              "      <th>dob</th>\n",
              "      <th>unix_time</th>\n",
              "      <th>merch_lat</th>\n",
              "      <th>merch_long</th>\n",
              "      <th>is_fraud</th>\n",
              "    </tr>\n",
              "  </thead>\n",
              "  <tbody>\n",
              "    <tr>\n",
              "      <th>0</th>\n",
              "      <td>2019-01-01 00:00:18</td>\n",
              "      <td>2703186189652095</td>\n",
              "      <td>fraud_Rippin, Kub and Mann</td>\n",
              "      <td>misc_net</td>\n",
              "      <td>4.97</td>\n",
              "      <td>F</td>\n",
              "      <td>561 Perry Cove</td>\n",
              "      <td>Moravian Falls</td>\n",
              "      <td>NC</td>\n",
              "      <td>28654</td>\n",
              "      <td>36.08</td>\n",
              "      <td>-81.18</td>\n",
              "      <td>3495</td>\n",
              "      <td>Psychologist, counselling</td>\n",
              "      <td>1988-03-09</td>\n",
              "      <td>1325376018</td>\n",
              "      <td>36.01</td>\n",
              "      <td>-82.05</td>\n",
              "      <td>0</td>\n",
              "    </tr>\n",
              "    <tr>\n",
              "      <th>1</th>\n",
              "      <td>2019-01-01 00:00:44</td>\n",
              "      <td>630423337322</td>\n",
              "      <td>fraud_Heller, Gutmann and Zieme</td>\n",
              "      <td>grocery_pos</td>\n",
              "      <td>107.23</td>\n",
              "      <td>F</td>\n",
              "      <td>43039 Riley Greens Suite 393</td>\n",
              "      <td>Orient</td>\n",
              "      <td>WA</td>\n",
              "      <td>99160</td>\n",
              "      <td>48.89</td>\n",
              "      <td>-118.21</td>\n",
              "      <td>149</td>\n",
              "      <td>Special educational needs teacher</td>\n",
              "      <td>1978-06-21</td>\n",
              "      <td>1325376044</td>\n",
              "      <td>49.16</td>\n",
              "      <td>-118.19</td>\n",
              "      <td>0</td>\n",
              "    </tr>\n",
              "    <tr>\n",
              "      <th>2</th>\n",
              "      <td>2019-01-01 00:00:51</td>\n",
              "      <td>38859492057661</td>\n",
              "      <td>fraud_Lind-Buckridge</td>\n",
              "      <td>entertainment</td>\n",
              "      <td>220.11</td>\n",
              "      <td>M</td>\n",
              "      <td>594 White Dale Suite 530</td>\n",
              "      <td>Malad City</td>\n",
              "      <td>ID</td>\n",
              "      <td>83252</td>\n",
              "      <td>42.18</td>\n",
              "      <td>-112.26</td>\n",
              "      <td>4154</td>\n",
              "      <td>Nature conservation officer</td>\n",
              "      <td>1962-01-19</td>\n",
              "      <td>1325376051</td>\n",
              "      <td>43.15</td>\n",
              "      <td>-112.15</td>\n",
              "      <td>0</td>\n",
              "    </tr>\n",
              "    <tr>\n",
              "      <th>3</th>\n",
              "      <td>2019-01-01 00:01:16</td>\n",
              "      <td>3534093764340240</td>\n",
              "      <td>fraud_Kutch, Hermiston and Farrell</td>\n",
              "      <td>gas_transport</td>\n",
              "      <td>45.00</td>\n",
              "      <td>M</td>\n",
              "      <td>9443 Cynthia Court Apt. 038</td>\n",
              "      <td>Boulder</td>\n",
              "      <td>MT</td>\n",
              "      <td>59632</td>\n",
              "      <td>46.23</td>\n",
              "      <td>-112.11</td>\n",
              "      <td>1939</td>\n",
              "      <td>Patent attorney</td>\n",
              "      <td>1967-01-12</td>\n",
              "      <td>1325376076</td>\n",
              "      <td>47.03</td>\n",
              "      <td>-112.56</td>\n",
              "      <td>0</td>\n",
              "    </tr>\n",
              "    <tr>\n",
              "      <th>4</th>\n",
              "      <td>2019-01-01 00:03:06</td>\n",
              "      <td>375534208663984</td>\n",
              "      <td>fraud_Keeling-Crist</td>\n",
              "      <td>misc_pos</td>\n",
              "      <td>41.96</td>\n",
              "      <td>M</td>\n",
              "      <td>408 Bradley Rest</td>\n",
              "      <td>Doe Hill</td>\n",
              "      <td>VA</td>\n",
              "      <td>24433</td>\n",
              "      <td>38.42</td>\n",
              "      <td>-79.46</td>\n",
              "      <td>99</td>\n",
              "      <td>Dance movement psychotherapist</td>\n",
              "      <td>1986-03-28</td>\n",
              "      <td>1325376186</td>\n",
              "      <td>38.67</td>\n",
              "      <td>-78.63</td>\n",
              "      <td>0</td>\n",
              "    </tr>\n",
              "  </tbody>\n",
              "</table>\n",
              "</div>\n",
              "    <div class=\"colab-df-buttons\">\n",
              "\n",
              "  <div class=\"colab-df-container\">\n",
              "    <button class=\"colab-df-convert\" onclick=\"convertToInteractive('df-b50305bd-afef-4efb-8819-e62f12f594fc')\"\n",
              "            title=\"Convert this dataframe to an interactive table.\"\n",
              "            style=\"display:none;\">\n",
              "\n",
              "  <svg xmlns=\"http://www.w3.org/2000/svg\" height=\"24px\" viewBox=\"0 -960 960 960\">\n",
              "    <path d=\"M120-120v-720h720v720H120Zm60-500h600v-160H180v160Zm220 220h160v-160H400v160Zm0 220h160v-160H400v160ZM180-400h160v-160H180v160Zm440 0h160v-160H620v160ZM180-180h160v-160H180v160Zm440 0h160v-160H620v160Z\"/>\n",
              "  </svg>\n",
              "    </button>\n",
              "\n",
              "  <style>\n",
              "    .colab-df-container {\n",
              "      display:flex;\n",
              "      gap: 12px;\n",
              "    }\n",
              "\n",
              "    .colab-df-convert {\n",
              "      background-color: #E8F0FE;\n",
              "      border: none;\n",
              "      border-radius: 50%;\n",
              "      cursor: pointer;\n",
              "      display: none;\n",
              "      fill: #1967D2;\n",
              "      height: 32px;\n",
              "      padding: 0 0 0 0;\n",
              "      width: 32px;\n",
              "    }\n",
              "\n",
              "    .colab-df-convert:hover {\n",
              "      background-color: #E2EBFA;\n",
              "      box-shadow: 0px 1px 2px rgba(60, 64, 67, 0.3), 0px 1px 3px 1px rgba(60, 64, 67, 0.15);\n",
              "      fill: #174EA6;\n",
              "    }\n",
              "\n",
              "    .colab-df-buttons div {\n",
              "      margin-bottom: 4px;\n",
              "    }\n",
              "\n",
              "    [theme=dark] .colab-df-convert {\n",
              "      background-color: #3B4455;\n",
              "      fill: #D2E3FC;\n",
              "    }\n",
              "\n",
              "    [theme=dark] .colab-df-convert:hover {\n",
              "      background-color: #434B5C;\n",
              "      box-shadow: 0px 1px 3px 1px rgba(0, 0, 0, 0.15);\n",
              "      filter: drop-shadow(0px 1px 2px rgba(0, 0, 0, 0.3));\n",
              "      fill: #FFFFFF;\n",
              "    }\n",
              "  </style>\n",
              "\n",
              "    <script>\n",
              "      const buttonEl =\n",
              "        document.querySelector('#df-b50305bd-afef-4efb-8819-e62f12f594fc button.colab-df-convert');\n",
              "      buttonEl.style.display =\n",
              "        google.colab.kernel.accessAllowed ? 'block' : 'none';\n",
              "\n",
              "      async function convertToInteractive(key) {\n",
              "        const element = document.querySelector('#df-b50305bd-afef-4efb-8819-e62f12f594fc');\n",
              "        const dataTable =\n",
              "          await google.colab.kernel.invokeFunction('convertToInteractive',\n",
              "                                                    [key], {});\n",
              "        if (!dataTable) return;\n",
              "\n",
              "        const docLinkHtml = 'Like what you see? Visit the ' +\n",
              "          '<a target=\"_blank\" href=https://colab.research.google.com/notebooks/data_table.ipynb>data table notebook</a>'\n",
              "          + ' to learn more about interactive tables.';\n",
              "        element.innerHTML = '';\n",
              "        dataTable['output_type'] = 'display_data';\n",
              "        await google.colab.output.renderOutput(dataTable, element);\n",
              "        const docLink = document.createElement('div');\n",
              "        docLink.innerHTML = docLinkHtml;\n",
              "        element.appendChild(docLink);\n",
              "      }\n",
              "    </script>\n",
              "  </div>\n",
              "\n",
              "\n",
              "<div id=\"df-540696a7-8b8c-4ee9-94ae-a24b90ab4e86\">\n",
              "  <button class=\"colab-df-quickchart\" onclick=\"quickchart('df-540696a7-8b8c-4ee9-94ae-a24b90ab4e86')\"\n",
              "            title=\"Suggest charts.\"\n",
              "            style=\"display:none;\">\n",
              "\n",
              "<svg xmlns=\"http://www.w3.org/2000/svg\" height=\"24px\"viewBox=\"0 0 24 24\"\n",
              "     width=\"24px\">\n",
              "    <g>\n",
              "        <path d=\"M19 3H5c-1.1 0-2 .9-2 2v14c0 1.1.9 2 2 2h14c1.1 0 2-.9 2-2V5c0-1.1-.9-2-2-2zM9 17H7v-7h2v7zm4 0h-2V7h2v10zm4 0h-2v-4h2v4z\"/>\n",
              "    </g>\n",
              "</svg>\n",
              "  </button>\n",
              "\n",
              "<style>\n",
              "  .colab-df-quickchart {\n",
              "      --bg-color: #E8F0FE;\n",
              "      --fill-color: #1967D2;\n",
              "      --hover-bg-color: #E2EBFA;\n",
              "      --hover-fill-color: #174EA6;\n",
              "      --disabled-fill-color: #AAA;\n",
              "      --disabled-bg-color: #DDD;\n",
              "  }\n",
              "\n",
              "  [theme=dark] .colab-df-quickchart {\n",
              "      --bg-color: #3B4455;\n",
              "      --fill-color: #D2E3FC;\n",
              "      --hover-bg-color: #434B5C;\n",
              "      --hover-fill-color: #FFFFFF;\n",
              "      --disabled-bg-color: #3B4455;\n",
              "      --disabled-fill-color: #666;\n",
              "  }\n",
              "\n",
              "  .colab-df-quickchart {\n",
              "    background-color: var(--bg-color);\n",
              "    border: none;\n",
              "    border-radius: 50%;\n",
              "    cursor: pointer;\n",
              "    display: none;\n",
              "    fill: var(--fill-color);\n",
              "    height: 32px;\n",
              "    padding: 0;\n",
              "    width: 32px;\n",
              "  }\n",
              "\n",
              "  .colab-df-quickchart:hover {\n",
              "    background-color: var(--hover-bg-color);\n",
              "    box-shadow: 0 1px 2px rgba(60, 64, 67, 0.3), 0 1px 3px 1px rgba(60, 64, 67, 0.15);\n",
              "    fill: var(--button-hover-fill-color);\n",
              "  }\n",
              "\n",
              "  .colab-df-quickchart-complete:disabled,\n",
              "  .colab-df-quickchart-complete:disabled:hover {\n",
              "    background-color: var(--disabled-bg-color);\n",
              "    fill: var(--disabled-fill-color);\n",
              "    box-shadow: none;\n",
              "  }\n",
              "\n",
              "  .colab-df-spinner {\n",
              "    border: 2px solid var(--fill-color);\n",
              "    border-color: transparent;\n",
              "    border-bottom-color: var(--fill-color);\n",
              "    animation:\n",
              "      spin 1s steps(1) infinite;\n",
              "  }\n",
              "\n",
              "  @keyframes spin {\n",
              "    0% {\n",
              "      border-color: transparent;\n",
              "      border-bottom-color: var(--fill-color);\n",
              "      border-left-color: var(--fill-color);\n",
              "    }\n",
              "    20% {\n",
              "      border-color: transparent;\n",
              "      border-left-color: var(--fill-color);\n",
              "      border-top-color: var(--fill-color);\n",
              "    }\n",
              "    30% {\n",
              "      border-color: transparent;\n",
              "      border-left-color: var(--fill-color);\n",
              "      border-top-color: var(--fill-color);\n",
              "      border-right-color: var(--fill-color);\n",
              "    }\n",
              "    40% {\n",
              "      border-color: transparent;\n",
              "      border-right-color: var(--fill-color);\n",
              "      border-top-color: var(--fill-color);\n",
              "    }\n",
              "    60% {\n",
              "      border-color: transparent;\n",
              "      border-right-color: var(--fill-color);\n",
              "    }\n",
              "    80% {\n",
              "      border-color: transparent;\n",
              "      border-right-color: var(--fill-color);\n",
              "      border-bottom-color: var(--fill-color);\n",
              "    }\n",
              "    90% {\n",
              "      border-color: transparent;\n",
              "      border-bottom-color: var(--fill-color);\n",
              "    }\n",
              "  }\n",
              "</style>\n",
              "\n",
              "  <script>\n",
              "    async function quickchart(key) {\n",
              "      const quickchartButtonEl =\n",
              "        document.querySelector('#' + key + ' button');\n",
              "      quickchartButtonEl.disabled = true;  // To prevent multiple clicks.\n",
              "      quickchartButtonEl.classList.add('colab-df-spinner');\n",
              "      try {\n",
              "        const charts = await google.colab.kernel.invokeFunction(\n",
              "            'suggestCharts', [key], {});\n",
              "      } catch (error) {\n",
              "        console.error('Error during call to suggestCharts:', error);\n",
              "      }\n",
              "      quickchartButtonEl.classList.remove('colab-df-spinner');\n",
              "      quickchartButtonEl.classList.add('colab-df-quickchart-complete');\n",
              "    }\n",
              "    (() => {\n",
              "      let quickchartButtonEl =\n",
              "        document.querySelector('#df-540696a7-8b8c-4ee9-94ae-a24b90ab4e86 button');\n",
              "      quickchartButtonEl.style.display =\n",
              "        google.colab.kernel.accessAllowed ? 'block' : 'none';\n",
              "    })();\n",
              "  </script>\n",
              "</div>\n",
              "    </div>\n",
              "  </div>\n"
            ]
          },
          "metadata": {},
          "execution_count": 10
        }
      ],
      "source": [
        "merged_df.head(5)"
      ]
    },
    {
      "cell_type": "code",
      "execution_count": 11,
      "metadata": {
        "id": "Bs9yT6oZEnSl"
      },
      "outputs": [],
      "source": [
        "merged_df['trans_date_trans_time'] = pd.to_datetime(merged_df['trans_date_trans_time'])\n",
        "merged_df['dob'] = pd.to_datetime(merged_df['dob'])"
      ]
    },
    {
      "cell_type": "code",
      "execution_count": 12,
      "metadata": {
        "id": "k_vJtwcXXF6Q"
      },
      "outputs": [],
      "source": [
        "\n",
        "# Extract relevant information from datetime columns\n",
        "merged_df['trans_year'] = merged_df['trans_date_trans_time'].dt.year\n",
        "merged_df['trans_month'] = merged_df['trans_date_trans_time'].dt.month\n",
        "merged_df['trans_day'] = merged_df['trans_date_trans_time'].dt.day\n",
        "merged_df['dob_year'] = merged_df['dob'].dt.year\n",
        "merged_df['dob_month'] = merged_df['dob'].dt.month\n",
        "merged_df['dob_day'] = merged_df['dob'].dt.day\n",
        "\n",
        "# Drop the original datetime columns\n",
        "merged_df = merged_df.drop(['trans_date_trans_time', 'dob'], axis=1)"
      ]
    },
    {
      "cell_type": "code",
      "source": [
        "merged_df.shape"
      ],
      "metadata": {
        "colab": {
          "base_uri": "https://localhost:8080/"
        },
        "id": "jYcj4ZnX0Wyl",
        "outputId": "88ce62f8-1b66-4019-8d43-92089bf1d138"
      },
      "execution_count": 13,
      "outputs": [
        {
          "output_type": "execute_result",
          "data": {
            "text/plain": [
              "(1852394, 23)"
            ]
          },
          "metadata": {},
          "execution_count": 13
        }
      ]
    },
    {
      "cell_type": "code",
      "source": [
        "cleandf = merged_df.copy()\n",
        "cleandf.shape"
      ],
      "metadata": {
        "id": "DL7I_LTXjtIF",
        "colab": {
          "base_uri": "https://localhost:8080/"
        },
        "outputId": "619728f5-cdbe-43b9-9c7b-57cd580c6f63"
      },
      "execution_count": 14,
      "outputs": [
        {
          "output_type": "execute_result",
          "data": {
            "text/plain": [
              "(1852394, 23)"
            ]
          },
          "metadata": {},
          "execution_count": 14
        }
      ]
    },
    {
      "cell_type": "markdown",
      "source": [
        "#Dividing data into eastcost and west coast"
      ],
      "metadata": {
        "id": "aOa50U3bj499"
      }
    },
    {
      "cell_type": "code",
      "source": [
        "# List of East Coast state codes\n",
        "east_coast_states = ['ME', 'NH', 'VT', 'MA', 'RI', 'CT', 'NY', 'NJ', 'PA', 'DE', 'MD', 'VA', 'NC', 'SC', 'GA', 'FL', 'WV', 'OH', 'KY', 'TN', 'MS', 'AL', 'WI', 'IL']\n",
        "\n",
        "# Filter the data for East Coast states\n",
        "east_coast_df = cleandf[cleandf['state'].isin(east_coast_states)]"
      ],
      "metadata": {
        "id": "9EiQKRRWjtU6"
      },
      "execution_count": 15,
      "outputs": []
    },
    {
      "cell_type": "code",
      "source": [
        "east_coast_df.shape"
      ],
      "metadata": {
        "colab": {
          "base_uri": "https://localhost:8080/"
        },
        "id": "aK_z5raYjtXx",
        "outputId": "4f59c60a-e96f-4ec0-afe4-256c58eca662"
      },
      "execution_count": 16,
      "outputs": [
        {
          "output_type": "execute_result",
          "data": {
            "text/plain": [
              "(973613, 23)"
            ]
          },
          "metadata": {},
          "execution_count": 16
        }
      ]
    },
    {
      "cell_type": "code",
      "source": [
        "value_counts = east_coast_df['is_fraud'].value_counts()\n",
        "print(value_counts)"
      ],
      "metadata": {
        "colab": {
          "base_uri": "https://localhost:8080/"
        },
        "id": "PJ5_9FnYpdlE",
        "outputId": "27cb4d9e-164e-405f-e0eb-dcbd7081affe"
      },
      "execution_count": 17,
      "outputs": [
        {
          "output_type": "stream",
          "name": "stdout",
          "text": [
            "0    968367\n",
            "1      5246\n",
            "Name: is_fraud, dtype: int64\n"
          ]
        }
      ]
    },
    {
      "cell_type": "code",
      "source": [
        "west_coast_df = merged_df[~merged_df['state'].isin(east_coast_states)]\n",
        "wc_df = west_coast_df.copy()"
      ],
      "metadata": {
        "id": "esRrRbcRjtav"
      },
      "execution_count": 18,
      "outputs": []
    },
    {
      "cell_type": "code",
      "source": [
        "\n",
        "west_coast_df.shape"
      ],
      "metadata": {
        "colab": {
          "base_uri": "https://localhost:8080/"
        },
        "id": "Gg7E7RPB0Dn2",
        "outputId": "6156ddfb-8ad6-462b-9815-4662f19469ca"
      },
      "execution_count": 19,
      "outputs": [
        {
          "output_type": "execute_result",
          "data": {
            "text/plain": [
              "(878781, 23)"
            ]
          },
          "metadata": {},
          "execution_count": 19
        }
      ]
    },
    {
      "cell_type": "code",
      "source": [
        "wc_df.shape"
      ],
      "metadata": {
        "colab": {
          "base_uri": "https://localhost:8080/"
        },
        "id": "wrlfq7xa07jh",
        "outputId": "6243d0b4-8d3e-4a0a-e0d1-58364241bc2b"
      },
      "execution_count": 20,
      "outputs": [
        {
          "output_type": "execute_result",
          "data": {
            "text/plain": [
              "(878781, 23)"
            ]
          },
          "metadata": {},
          "execution_count": 20
        }
      ]
    },
    {
      "cell_type": "code",
      "source": [
        "wc_df.shape"
      ],
      "metadata": {
        "colab": {
          "base_uri": "https://localhost:8080/"
        },
        "id": "rAI0MMKQjtdm",
        "outputId": "d652581c-dbcd-4cf9-9ae9-33f07351461c"
      },
      "execution_count": 21,
      "outputs": [
        {
          "output_type": "execute_result",
          "data": {
            "text/plain": [
              "(878781, 23)"
            ]
          },
          "metadata": {},
          "execution_count": 21
        }
      ]
    },
    {
      "cell_type": "code",
      "source": [
        "w_value_counts = wc_df['is_fraud'].value_counts()\n",
        "print(w_value_counts)"
      ],
      "metadata": {
        "colab": {
          "base_uri": "https://localhost:8080/"
        },
        "id": "eEqUzMcDjtge",
        "outputId": "950fe2da-e72b-49ea-bf2f-17e519340cb5"
      },
      "execution_count": 22,
      "outputs": [
        {
          "output_type": "stream",
          "name": "stdout",
          "text": [
            "0    874376\n",
            "1      4405\n",
            "Name: is_fraud, dtype: int64\n"
          ]
        }
      ]
    },
    {
      "cell_type": "code",
      "execution_count": 23,
      "metadata": {
        "id": "PsU6TaK3MvTN"
      },
      "outputs": [],
      "source": [
        "# Preprocessing\n",
        "# Assuming you have already converted 'trans_date_trans_time' and 'dob' columns to datetime\n",
        "# Encode categorical columns using LabelEncoder\n",
        "label_encoders = {}\n",
        "categorical_columns = ['merchant', 'category', 'gender', 'street', 'city', 'state', 'job']\n",
        "for col in categorical_columns:\n",
        "    label_encoders[col] = LabelEncoder()\n",
        "    wc_df[col] = label_encoders[col].fit_transform(wc_df[col])\n",
        "\n",
        "# Split the data into features (X) and target (y)\n",
        "X = wc_df.drop(['is_fraud'], axis=1)\n",
        "y = wc_df['is_fraud']\n",
        "\n",
        "# Split the data into training and testing sets\n",
        "X_train, X_test, y_train, y_test = train_test_split(X, y, test_size=0.2, random_state=42)\n",
        "\n",
        "# Standardize numerical features\n",
        "scaler = StandardScaler()\n",
        "X_train = scaler.fit_transform(X_train)\n",
        "X_test = scaler.transform(X_test)"
      ]
    },
    {
      "cell_type": "code",
      "execution_count": 24,
      "metadata": {
        "colab": {
          "base_uri": "https://localhost:8080/"
        },
        "id": "w0WdMKCHMvY7",
        "outputId": "c9519274-0336-447c-9bb0-ea0c3ee7014d"
      },
      "outputs": [
        {
          "output_type": "stream",
          "name": "stdout",
          "text": [
            "<class 'pandas.core.frame.DataFrame'>\n",
            "Int64Index: 878781 entries, 1 to 1852393\n",
            "Data columns (total 23 columns):\n",
            " #   Column       Non-Null Count   Dtype  \n",
            "---  ------       --------------   -----  \n",
            " 0   cc_num       878781 non-null  int64  \n",
            " 1   merchant     878781 non-null  int64  \n",
            " 2   category     878781 non-null  int64  \n",
            " 3   amt          878781 non-null  float64\n",
            " 4   gender       878781 non-null  int64  \n",
            " 5   street       878781 non-null  int64  \n",
            " 6   city         878781 non-null  int64  \n",
            " 7   state        878781 non-null  int64  \n",
            " 8   zip          878781 non-null  int64  \n",
            " 9   lat          878781 non-null  float64\n",
            " 10  long         878781 non-null  float64\n",
            " 11  city_pop     878781 non-null  int64  \n",
            " 12  job          878781 non-null  int64  \n",
            " 13  unix_time    878781 non-null  int64  \n",
            " 14  merch_lat    878781 non-null  float64\n",
            " 15  merch_long   878781 non-null  float64\n",
            " 16  is_fraud     878781 non-null  int64  \n",
            " 17  trans_year   878781 non-null  int64  \n",
            " 18  trans_month  878781 non-null  int64  \n",
            " 19  trans_day    878781 non-null  int64  \n",
            " 20  dob_year     878781 non-null  int64  \n",
            " 21  dob_month    878781 non-null  int64  \n",
            " 22  dob_day      878781 non-null  int64  \n",
            "dtypes: float64(5), int64(18)\n",
            "memory usage: 160.9 MB\n"
          ]
        }
      ],
      "source": [
        "wc_df.info()"
      ]
    },
    {
      "cell_type": "code",
      "execution_count": 24,
      "metadata": {
        "id": "tD8uLfT-MgKW"
      },
      "outputs": [],
      "source": []
    },
    {
      "cell_type": "markdown",
      "metadata": {
        "id": "RySVNZARMgwn"
      },
      "source": [
        "**Sequential Model**"
      ]
    },
    {
      "cell_type": "markdown",
      "metadata": {
        "id": "bHvx9BOqMsyD"
      },
      "source": [
        "Input Layer: It takes an input with the shape of (X_train.shape[1],) which is the shape of your training data.\n",
        "\n",
        "Dense Layer (64 units): It is a fully connected (dense) layer with 64 units and ReLU activation.\n",
        "\n",
        "Dense Layer (32 units): Another fully connected layer with 32 units and ReLU activation.\n",
        "\n",
        "Dense Layer (1 unit): The output layer with a single unit and sigmoid activation. This is a binary classification model, and the sigmoid activation function is often used for binary classification tasks.\n",
        "\n",
        "After defining the model, you compile it using the Adam optimizer, binary cross-entropy loss (commonly used for binary classification problems), and accuracy as the metric for evaluation."
      ]
    },
    {
      "cell_type": "code",
      "execution_count": 25,
      "metadata": {
        "colab": {
          "base_uri": "https://localhost:8080/"
        },
        "id": "y6LcSWYNMvba",
        "outputId": "221b00d7-d1ad-4174-a5a8-320882f01feb"
      },
      "outputs": [
        {
          "output_type": "stream",
          "name": "stdout",
          "text": [
            "Epoch 1/5\n",
            "17576/17576 [==============================] - 46s 3ms/step - loss: 0.0215 - accuracy: 0.9947 - val_loss: 0.0173 - val_accuracy: 0.9955\n",
            "Epoch 2/5\n",
            "17576/17576 [==============================] - 45s 3ms/step - loss: 0.0165 - accuracy: 0.9959 - val_loss: 0.0145 - val_accuracy: 0.9964\n",
            "Epoch 3/5\n",
            "17576/17576 [==============================] - 42s 2ms/step - loss: 0.0144 - accuracy: 0.9964 - val_loss: 0.0137 - val_accuracy: 0.9966\n",
            "Epoch 4/5\n",
            "17576/17576 [==============================] - 46s 3ms/step - loss: 0.0133 - accuracy: 0.9965 - val_loss: 0.0130 - val_accuracy: 0.9965\n",
            "Epoch 5/5\n",
            "17576/17576 [==============================] - 44s 3ms/step - loss: 0.0125 - accuracy: 0.9966 - val_loss: 0.0124 - val_accuracy: 0.9966\n"
          ]
        },
        {
          "output_type": "execute_result",
          "data": {
            "text/plain": [
              "<keras.src.callbacks.History at 0x7d82bbf26f20>"
            ]
          },
          "metadata": {},
          "execution_count": 25
        }
      ],
      "source": [
        "\n",
        "# Define the deep learning model\n",
        "model = tf.keras.Sequential([\n",
        "    tf.keras.layers.Input(shape=(X_train.shape[1],)),\n",
        "    tf.keras.layers.Dense(64, activation='relu'),\n",
        "    tf.keras.layers.Dense(32, activation='relu'),\n",
        "    tf.keras.layers.Dense(1, activation='sigmoid')\n",
        "])\n",
        "\n",
        "# Compile the model\n",
        "model.compile(optimizer='adam', loss='binary_crossentropy', metrics=['accuracy'])\n",
        "\n",
        "# Train the model\n",
        "model.fit(X_train, y_train, epochs=5, batch_size=32, validation_split=0.2)"
      ]
    },
    {
      "cell_type": "code",
      "execution_count": 26,
      "metadata": {
        "colab": {
          "base_uri": "https://localhost:8080/"
        },
        "id": "fqHuvKanJ1Pj",
        "outputId": "f0fe0af7-1ec3-457c-cd8f-cb8cd9cdf592"
      },
      "outputs": [
        {
          "output_type": "stream",
          "name": "stdout",
          "text": [
            "5493/5493 [==============================] - 9s 2ms/step\n",
            "              precision    recall  f1-score   support\n",
            "\n",
            "           0       1.00      1.00      1.00    174898\n",
            "           1       0.73      0.46      0.56       859\n",
            "\n",
            "    accuracy                           1.00    175757\n",
            "   macro avg       0.86      0.73      0.78    175757\n",
            "weighted avg       1.00      1.00      1.00    175757\n",
            "\n",
            "[[174750    148]\n",
            " [   467    392]]\n"
          ]
        }
      ],
      "source": [
        "\n",
        "# Evaluate the model on the test set\n",
        "y_pred = model.predict(X_test)\n",
        "y_pred = (y_pred > 0.5)  # Convert probabilities to binary predictions\n",
        "\n",
        "# Print classification report and confusion matrix\n",
        "print(classification_report(y_test, y_pred))\n",
        "print(confusion_matrix(y_test, y_pred))"
      ]
    },
    {
      "cell_type": "code",
      "execution_count": 26,
      "metadata": {
        "id": "NwG9MCkXfQQX"
      },
      "outputs": [],
      "source": []
    },
    {
      "cell_type": "markdown",
      "metadata": {
        "id": "5ZXdfdHqNRMP"
      },
      "source": [
        "**Implementing Convolutional Neural Network (CNN)**"
      ]
    },
    {
      "cell_type": "markdown",
      "metadata": {
        "id": "vVzUFuLRM9Ip"
      },
      "source": [
        "This is a sequential model for a 1D Convolutional Neural Network (CNN) designed for some form of sequence data (possibly time-series data). It consists of the following layers:\n",
        "\n",
        "Conv1D Layer (64 filters, kernel size 3): This layer performs a 1D convolution operation with 64 filters and a kernel size of 3. It uses ReLU activation.\n",
        "\n",
        "MaxPooling1D Layer (pool size 2): After the convolution, there's a max-pooling layer with a pool size of 2.\n",
        "\n",
        "Conv1D Layer (128 filters, kernel size 3): Another convolutional layer with 128 filters and kernel size 3, also using ReLU activation.\n",
        "\n",
        "MaxPooling1D Layer (pool size 2): Another max-pooling layer with a pool size of 2.\n",
        "\n",
        "Flatten Layer: This layer flattens the output from the previous layers into a 1D vector, preparing it for the fully connected layers.\n",
        "\n",
        "Dense Layer (64 units): A fully connected layer with 64 units and ReLU activation.\n",
        "\n",
        "Dropout Layer: A dropout layer with a dropout rate of 0.5, which helps prevent overfitting.\n",
        "\n",
        "Dense Layer (1 unit): The output layer with a single unit and sigmoid activation, indicating binary classification.\n",
        "\n",
        "The model is compiled using the Adam optimizer, binary cross-entropy loss, and accuracy as the metric, just like the first model.\n",
        "\n",
        "In summary, the first model is a feedforward neural network, while the second model is a 1D convolutional neural network, typically used for sequence or time-series data. Both models are designed for binary classification tasks."
      ]
    },
    {
      "cell_type": "code",
      "execution_count": 27,
      "metadata": {
        "colab": {
          "base_uri": "https://localhost:8080/"
        },
        "id": "ufjp7Or6y0SI",
        "outputId": "e0d665fd-6370-4a01-bc3a-5eeb846bbcf5"
      },
      "outputs": [
        {
          "output_type": "stream",
          "name": "stdout",
          "text": [
            "Epoch 1/5\n",
            "17576/17576 [==============================] - 104s 6ms/step - loss: 0.0223 - accuracy: 0.9949 - val_loss: 0.0173 - val_accuracy: 0.9951\n",
            "Epoch 2/5\n",
            "17576/17576 [==============================] - 103s 6ms/step - loss: 0.0184 - accuracy: 0.9952 - val_loss: 0.0161 - val_accuracy: 0.9953\n",
            "Epoch 3/5\n",
            "17576/17576 [==============================] - 107s 6ms/step - loss: 0.0172 - accuracy: 0.9954 - val_loss: 0.0154 - val_accuracy: 0.9963\n",
            "Epoch 4/5\n",
            "17576/17576 [==============================] - 104s 6ms/step - loss: 0.0165 - accuracy: 0.9955 - val_loss: 0.0138 - val_accuracy: 0.9960\n",
            "Epoch 5/5\n",
            "17576/17576 [==============================] - 119s 7ms/step - loss: 0.0161 - accuracy: 0.9955 - val_loss: 0.0137 - val_accuracy: 0.9962\n"
          ]
        },
        {
          "output_type": "execute_result",
          "data": {
            "text/plain": [
              "<keras.src.callbacks.History at 0x7d82a46ff610>"
            ]
          },
          "metadata": {},
          "execution_count": 27
        }
      ],
      "source": [
        "# Define the CNN-based deep learning model\n",
        "import pandas as pd\n",
        "import numpy as np\n",
        "import tensorflow as tf\n",
        "from sklearn.model_selection import train_test_split\n",
        "from sklearn.preprocessing import StandardScaler, LabelEncoder\n",
        "from sklearn.metrics import classification_report, confusion_matrix\n",
        "from tensorflow.keras.models import Sequential\n",
        "from tensorflow.keras.layers import Conv1D, MaxPooling1D, Flatten, Dense, Dropout, Input\n",
        "from tensorflow.keras.optimizers import Adam\n",
        "\n",
        "model = Sequential()\n",
        "model.add(Conv1D(filters=64, kernel_size=3, activation='relu', input_shape=(X_train.shape[1], 1)))\n",
        "model.add(MaxPooling1D(pool_size=2))\n",
        "model.add(Conv1D(filters=128, kernel_size=3, activation='relu'))\n",
        "model.add(MaxPooling1D(pool_size=2))\n",
        "model.add(Flatten())\n",
        "model.add(Dense(64, activation='relu'))\n",
        "model.add(Dropout(0.5))\n",
        "model.add(Dense(1, activation='sigmoid'))\n",
        "\n",
        "# Compile the model\n",
        "optimizer = Adam(learning_rate=0.001)\n",
        "model.compile(optimizer=optimizer, loss='binary_crossentropy', metrics=['accuracy'])\n",
        "\n",
        "# Train the model\n",
        "model.fit(X_train, y_train, epochs=5, batch_size=32, validation_split=0.2)\n",
        "\n"
      ]
    },
    {
      "cell_type": "code",
      "execution_count": 28,
      "metadata": {
        "colab": {
          "base_uri": "https://localhost:8080/"
        },
        "id": "FAiok5YGy6Eg",
        "outputId": "0e2cffc0-d7fc-4281-f519-3d7dc9e2ad1f"
      },
      "outputs": [
        {
          "output_type": "stream",
          "name": "stdout",
          "text": [
            "5493/5493 [==============================] - 12s 2ms/step\n",
            "              precision    recall  f1-score   support\n",
            "\n",
            "           0       1.00      1.00      1.00    174898\n",
            "           1       0.66      0.53      0.59       859\n",
            "\n",
            "    accuracy                           1.00    175757\n",
            "   macro avg       0.83      0.76      0.79    175757\n",
            "weighted avg       1.00      1.00      1.00    175757\n",
            "\n",
            "[[174666    232]\n",
            " [   405    454]]\n"
          ]
        }
      ],
      "source": [
        "# Evaluate the model on the test set\n",
        "y_pred = model.predict(X_test)\n",
        "y_pred = (y_pred > 0.5)  # Convert probabilities to binary predictions\n",
        "\n",
        "# Print classification report and confusion matrix\n",
        "print(classification_report(y_test, y_pred))\n",
        "print(confusion_matrix(y_test, y_pred))"
      ]
    },
    {
      "cell_type": "code",
      "execution_count": 28,
      "metadata": {
        "id": "93Rn0bvZC59w"
      },
      "outputs": [],
      "source": []
    },
    {
      "cell_type": "markdown",
      "metadata": {
        "id": "Nn96jpbVMAK1"
      },
      "source": [
        "**Implementing LSTM Model**\n",
        "\n",
        "LSTM is a type of recurrent neural network (RNN) architecture, specifically designed to handle and capture long-range dependencies and temporal patterns in sequential data. LSTMs are often used in tasks such as time series analysis, natural language processing, and any task where the order of data points is significant."
      ]
    },
    {
      "cell_type": "code",
      "execution_count": 29,
      "metadata": {
        "colab": {
          "base_uri": "https://localhost:8080/"
        },
        "id": "IXVnn18fMHB0",
        "outputId": "82c7ce8f-9257-4edc-c329-f5dd9c777887"
      },
      "outputs": [
        {
          "metadata": {
            "tags": null
          },
          "name": "stdout",
          "output_type": "stream",
          "text": [
            "Model: \"sequential_2\"\n",
            "_________________________________________________________________\n",
            " Layer (type)                Output Shape              Param #   \n",
            "=================================================================\n",
            " lstm (LSTM)                 (None, 64)                16896     \n",
            "                                                                 \n",
            " dense_5 (Dense)             (None, 1)                 65        \n",
            "                                                                 \n",
            "=================================================================\n",
            "Total params: 16961 (66.25 KB)\n",
            "Trainable params: 16961 (66.25 KB)\n",
            "Non-trainable params: 0 (0.00 Byte)\n",
            "_________________________________________________________________\n",
            "Epoch 1/5\n",
            "17576/17576 [==============================] - 261s 15ms/step - loss: 0.0325 - accuracy: 0.9948 - val_loss: 0.0238 - val_accuracy: 0.9951\n",
            "Epoch 2/5\n",
            "17576/17576 [==============================] - 257s 15ms/step - loss: 0.0202 - accuracy: 0.9950 - val_loss: 0.0175 - val_accuracy: 0.9952\n",
            "Epoch 3/5\n",
            "17576/17576 [==============================] - 245s 14ms/step - loss: 0.0171 - accuracy: 0.9952 - val_loss: 0.0151 - val_accuracy: 0.9960\n",
            "Epoch 4/5\n",
            "17576/17576 [==============================] - 243s 14ms/step - loss: 0.0155 - accuracy: 0.9960 - val_loss: 0.0139 - val_accuracy: 0.9964\n",
            "Epoch 5/5\n",
            "17576/17576 [==============================] - 238s 14ms/step - loss: 0.0147 - accuracy: 0.9962 - val_loss: 0.0131 - val_accuracy: 0.9964\n"
          ]
        },
        {
          "data": {
            "text/plain": [
              "<keras.src.callbacks.History at 0x7d82a25b5600>"
            ]
          },
          "execution_count": 29,
          "metadata": {},
          "output_type": "execute_result"
        }
      ],
      "source": [
        "import tensorflow as tf\n",
        "from tensorflow.keras.models import Sequential\n",
        "from tensorflow.keras.layers import LSTM, Dense\n",
        "\n",
        "model = Sequential()\n",
        "model.add(LSTM(units=64, input_shape=(X_train.shape[1], 1)))\n",
        "model.add(Dense(1, activation='sigmoid'))\n",
        "\n",
        "model.compile(optimizer='adam', loss='binary_crossentropy', metrics=['accuracy'])\n",
        "model.summary()\n",
        "model.fit(X_train, y_train, epochs=5, batch_size=32, validation_split=0.2)"
      ]
    },
    {
      "cell_type": "code",
      "execution_count": 30,
      "metadata": {
        "colab": {
          "base_uri": "https://localhost:8080/"
        },
        "id": "xaF8RZFDMMoK",
        "outputId": "af2c7add-0fa0-4dcf-d3f0-a5e487a92c23"
      },
      "outputs": [
        {
          "metadata": {
            "tags": null
          },
          "name": "stdout",
          "output_type": "stream",
          "text": [
            "5493/5493 [==============================] - 25s 5ms/step\n",
            "              precision    recall  f1-score   support\n",
            "\n",
            "           0       1.00      1.00      1.00    174898\n",
            "           1       0.70      0.53      0.60       859\n",
            "\n",
            "    accuracy                           1.00    175757\n",
            "   macro avg       0.85      0.76      0.80    175757\n",
            "weighted avg       1.00      1.00      1.00    175757\n",
            "\n",
            "[[174705    193]\n",
            " [   405    454]]\n"
          ]
        }
      ],
      "source": [
        "# Evaluate the model on the test set\n",
        "y_pred = model.predict(X_test)\n",
        "y_pred = (y_pred > 0.5)  # Convert probabilities to binary predictions\n",
        "\n",
        "# Print classification report and confusion matrix\n",
        "print(classification_report(y_test, y_pred))\n",
        "print(confusion_matrix(y_test, y_pred))"
      ]
    },
    {
      "cell_type": "code",
      "execution_count": 30,
      "metadata": {
        "id": "BOUUo4L9kPsN"
      },
      "outputs": [],
      "source": []
    },
    {
      "cell_type": "code",
      "execution_count": 30,
      "metadata": {
        "id": "mKzwJTq4PSca"
      },
      "outputs": [],
      "source": []
    },
    {
      "cell_type": "markdown",
      "metadata": {
        "id": "1rBkm52tPSrw"
      },
      "source": [
        "**Implementing GRU Model**\n",
        "\n",
        "A GRU is a type of recurrent neural network (RNN) that is designed to capture and model sequential data. It is similar to the more complex LSTM (Long Short-Term Memory) but is computationally more efficient and can be easier to train."
      ]
    },
    {
      "cell_type": "markdown",
      "metadata": {
        "id": "NtvGY9_yPWMY"
      },
      "source": []
    },
    {
      "cell_type": "code",
      "execution_count": 31,
      "metadata": {
        "colab": {
          "base_uri": "https://localhost:8080/"
        },
        "id": "Hj4AvEEPPVlj",
        "outputId": "ea635370-4ba3-44a2-ab8e-4a0d9f64665a"
      },
      "outputs": [
        {
          "metadata": {
            "tags": null
          },
          "name": "stdout",
          "output_type": "stream",
          "text": [
            "Model: \"sequential_3\"\n",
            "_________________________________________________________________\n",
            " Layer (type)                Output Shape              Param #   \n",
            "=================================================================\n",
            " gru (GRU)                   (None, 64)                12864     \n",
            "                                                                 \n",
            " dense_6 (Dense)             (None, 1)                 65        \n",
            "                                                                 \n",
            "=================================================================\n",
            "Total params: 12929 (50.50 KB)\n",
            "Trainable params: 12929 (50.50 KB)\n",
            "Non-trainable params: 0 (0.00 Byte)\n",
            "_________________________________________________________________\n",
            "Epoch 1/5\n",
            "17576/17576 [==============================] - 249s 14ms/step - loss: 0.0210 - accuracy: 0.9951 - val_loss: 0.0169 - val_accuracy: 0.9959\n",
            "Epoch 2/5\n",
            "17576/17576 [==============================] - 249s 14ms/step - loss: 0.0159 - accuracy: 0.9961 - val_loss: 0.0146 - val_accuracy: 0.9963\n",
            "Epoch 3/5\n",
            "17576/17576 [==============================] - 248s 14ms/step - loss: 0.0151 - accuracy: 0.9962 - val_loss: 0.0134 - val_accuracy: 0.9965\n",
            "Epoch 4/5\n",
            "17576/17576 [==============================] - 253s 14ms/step - loss: 0.0140 - accuracy: 0.9963 - val_loss: 0.0130 - val_accuracy: 0.9965\n",
            "Epoch 5/5\n",
            "17576/17576 [==============================] - 272s 15ms/step - loss: 0.0121 - accuracy: 0.9965 - val_loss: 0.0111 - val_accuracy: 0.9967\n"
          ]
        },
        {
          "data": {
            "text/plain": [
              "<keras.src.callbacks.History at 0x7d827fc00ee0>"
            ]
          },
          "execution_count": 31,
          "metadata": {},
          "output_type": "execute_result"
        }
      ],
      "source": [
        "import tensorflow as tf\n",
        "from tensorflow.keras.models import Sequential\n",
        "from tensorflow.keras.layers import GRU, Dense\n",
        "\n",
        "model = Sequential()\n",
        "model.add(GRU(units=64, input_shape=(X_train.shape[1], 1)))\n",
        "model.add(Dense(1, activation='sigmoid'))\n",
        "\n",
        "model.compile(optimizer='adam', loss='binary_crossentropy', metrics=['accuracy'])\n",
        "model.summary()\n",
        "model.fit(X_train, y_train, epochs=5, batch_size=32, validation_split=0.2)\n"
      ]
    },
    {
      "cell_type": "code",
      "execution_count": 32,
      "metadata": {
        "colab": {
          "base_uri": "https://localhost:8080/"
        },
        "id": "ZkqQvNdkPYPp",
        "outputId": "a8af690b-e42d-4298-ab16-b67c0969ad90"
      },
      "outputs": [
        {
          "metadata": {
            "tags": null
          },
          "name": "stdout",
          "output_type": "stream",
          "text": [
            "5493/5493 [==============================] - 23s 4ms/step\n",
            "              precision    recall  f1-score   support\n",
            "\n",
            "           0       1.00      1.00      1.00    174898\n",
            "           1       0.87      0.38      0.53       859\n",
            "\n",
            "    accuracy                           1.00    175757\n",
            "   macro avg       0.93      0.69      0.76    175757\n",
            "weighted avg       1.00      1.00      1.00    175757\n",
            "\n",
            "[[174847     51]\n",
            " [   531    328]]\n"
          ]
        }
      ],
      "source": [
        "# Evaluate the model on the test set\n",
        "y_pred = model.predict(X_test)\n",
        "y_pred = (y_pred > 0.5)  # Convert probabilities to binary predictions\n",
        "\n",
        "# Print classification report and confusion matrix\n",
        "print(classification_report(y_test, y_pred))\n",
        "print(confusion_matrix(y_test, y_pred))"
      ]
    },
    {
      "cell_type": "code",
      "execution_count": 32,
      "metadata": {
        "id": "i0XYlQP5PYTJ"
      },
      "outputs": [],
      "source": []
    },
    {
      "cell_type": "markdown",
      "metadata": {
        "id": "R49JZGcIPY7F"
      },
      "source": [
        "**Implementing Auto encoder model**\n",
        "\n",
        "An autoencoder is a type of neural network used for dimensionality reduction, feature learning, and anomaly detection. It consists of an encoder network that maps the input data to a lower-dimensional representation and a decoder network that attempts to reconstruct the original input from this representation."
      ]
    },
    {
      "cell_type": "code",
      "execution_count": 33,
      "metadata": {
        "colab": {
          "base_uri": "https://localhost:8080/"
        },
        "id": "56g03axXPeHt",
        "outputId": "e6cc89cf-758c-4593-804f-b90c7a008003"
      },
      "outputs": [
        {
          "metadata": {
            "tags": null
          },
          "name": "stdout",
          "output_type": "stream",
          "text": [
            "Model: \"sequential_6\"\n",
            "_________________________________________________________________\n",
            " Layer (type)                Output Shape              Param #   \n",
            "=================================================================\n",
            " sequential_4 (Sequential)   (None, 64)                11200     \n",
            "                                                                 \n",
            " sequential_5 (Sequential)   (None, 22)                11158     \n",
            "                                                                 \n",
            "=================================================================\n",
            "Total params: 22358 (87.34 KB)\n",
            "Trainable params: 22358 (87.34 KB)\n",
            "Non-trainable params: 0 (0.00 Byte)\n",
            "_________________________________________________________________\n",
            "Epoch 1/5\n",
            "17576/17576 [==============================] - 49s 3ms/step - loss: 0.5794 - val_loss: 0.5827\n",
            "Epoch 2/5\n",
            "17576/17576 [==============================] - 47s 3ms/step - loss: 0.5759 - val_loss: 0.5819\n",
            "Epoch 3/5\n",
            "17576/17576 [==============================] - 52s 3ms/step - loss: 0.5754 - val_loss: 0.5816\n",
            "Epoch 4/5\n",
            "17576/17576 [==============================] - 51s 3ms/step - loss: 0.5752 - val_loss: 0.5815\n",
            "Epoch 5/5\n",
            "17576/17576 [==============================] - 44s 3ms/step - loss: 0.5752 - val_loss: 0.5816\n"
          ]
        },
        {
          "data": {
            "text/plain": [
              "<keras.src.callbacks.History at 0x7d82bbf270a0>"
            ]
          },
          "execution_count": 33,
          "metadata": {},
          "output_type": "execute_result"
        }
      ],
      "source": [
        "import tensorflow as tf\n",
        "from tensorflow.keras.models import Sequential\n",
        "from tensorflow.keras.layers import Dense\n",
        "\n",
        "# Define the encoder part of the autoencoder\n",
        "encoder = Sequential()\n",
        "encoder.add(Dense(128, activation='relu', input_shape=(X_train.shape[1],)))\n",
        "encoder.add(Dense(64, activation='relu'))\n",
        "\n",
        "# Define the decoder part of the autoencoder\n",
        "decoder = Sequential()\n",
        "decoder.add(Dense(128, activation='relu', input_shape=(64,)))\n",
        "decoder.add(Dense(X_train.shape[1], activation='sigmoid'))\n",
        "\n",
        "# Combine the encoder and decoder to create the autoencoder\n",
        "autoencoder = Sequential([encoder, decoder])\n",
        "\n",
        "autoencoder.compile(optimizer='adam', loss='mean_squared_error')\n",
        "autoencoder.summary()\n",
        "autoencoder.fit(X_train, X_train, epochs=5, batch_size=32, validation_split=0.2)\n"
      ]
    },
    {
      "cell_type": "code",
      "execution_count": 34,
      "metadata": {
        "colab": {
          "base_uri": "https://localhost:8080/"
        },
        "id": "1P0DAancfBF4",
        "outputId": "f18977b0-136c-498b-a626-6ba5d155f0e2"
      },
      "outputs": [
        {
          "metadata": {
            "tags": null
          },
          "name": "stdout",
          "output_type": "stream",
          "text": [
            "5493/5493 [==============================] - 22s 4ms/step\n",
            "              precision    recall  f1-score   support\n",
            "\n",
            "           0       1.00      1.00      1.00    174898\n",
            "           1       0.87      0.38      0.53       859\n",
            "\n",
            "    accuracy                           1.00    175757\n",
            "   macro avg       0.93      0.69      0.76    175757\n",
            "weighted avg       1.00      1.00      1.00    175757\n",
            "\n",
            "[[174847     51]\n",
            " [   531    328]]\n"
          ]
        }
      ],
      "source": [
        "# Evaluate the model on the test set\n",
        "y_pred = model.predict(X_test)\n",
        "y_pred = (y_pred > 0.5)  # Convert probabilities to binary predictions\n",
        "\n",
        "# Print classification report and confusion matrix\n",
        "print(classification_report(y_test, y_pred))\n",
        "print(confusion_matrix(y_test, y_pred))"
      ]
    },
    {
      "cell_type": "code",
      "execution_count": 35,
      "metadata": {
        "id": "cIrpIapFfMmK",
        "colab": {
          "base_uri": "https://localhost:8080/"
        },
        "outputId": "63616d64-e1fb-4110-9c8e-c46593d424a3"
      },
      "outputs": [
        {
          "metadata": {
            "tags": null
          },
          "name": "stdout",
          "output_type": "stream",
          "text": [
            "Requirement already satisfied: seaborn in /usr/local/lib/python3.10/dist-packages (0.12.2)\n",
            "Requirement already satisfied: numpy!=1.24.0,>=1.17 in /usr/local/lib/python3.10/dist-packages (from seaborn) (1.23.5)\n",
            "Requirement already satisfied: pandas>=0.25 in /usr/local/lib/python3.10/dist-packages (from seaborn) (1.5.3)\n",
            "Requirement already satisfied: matplotlib!=3.6.1,>=3.1 in /usr/local/lib/python3.10/dist-packages (from seaborn) (3.7.1)\n",
            "Requirement already satisfied: contourpy>=1.0.1 in /usr/local/lib/python3.10/dist-packages (from matplotlib!=3.6.1,>=3.1->seaborn) (1.1.1)\n",
            "Requirement already satisfied: cycler>=0.10 in /usr/local/lib/python3.10/dist-packages (from matplotlib!=3.6.1,>=3.1->seaborn) (0.12.1)\n",
            "Requirement already satisfied: fonttools>=4.22.0 in /usr/local/lib/python3.10/dist-packages (from matplotlib!=3.6.1,>=3.1->seaborn) (4.43.1)\n",
            "Requirement already satisfied: kiwisolver>=1.0.1 in /usr/local/lib/python3.10/dist-packages (from matplotlib!=3.6.1,>=3.1->seaborn) (1.4.5)\n",
            "Requirement already satisfied: packaging>=20.0 in /usr/local/lib/python3.10/dist-packages (from matplotlib!=3.6.1,>=3.1->seaborn) (23.2)\n",
            "Requirement already satisfied: pillow>=6.2.0 in /usr/local/lib/python3.10/dist-packages (from matplotlib!=3.6.1,>=3.1->seaborn) (9.4.0)\n",
            "Requirement already satisfied: pyparsing>=2.3.1 in /usr/local/lib/python3.10/dist-packages (from matplotlib!=3.6.1,>=3.1->seaborn) (3.1.1)\n",
            "Requirement already satisfied: python-dateutil>=2.7 in /usr/local/lib/python3.10/dist-packages (from matplotlib!=3.6.1,>=3.1->seaborn) (2.8.2)\n",
            "Requirement already satisfied: pytz>=2020.1 in /usr/local/lib/python3.10/dist-packages (from pandas>=0.25->seaborn) (2023.3.post1)\n",
            "Requirement already satisfied: six>=1.5 in /usr/local/lib/python3.10/dist-packages (from python-dateutil>=2.7->matplotlib!=3.6.1,>=3.1->seaborn) (1.16.0)\n"
          ]
        }
      ],
      "source": [
        "pip install seaborn\n"
      ]
    }
  ],
  "metadata": {
    "colab": {
      "provenance": [],
      "include_colab_link": true
    },
    "kernelspec": {
      "display_name": "Python 3",
      "name": "python3"
    },
    "language_info": {
      "name": "python"
    }
  },
  "nbformat": 4,
  "nbformat_minor": 0
}